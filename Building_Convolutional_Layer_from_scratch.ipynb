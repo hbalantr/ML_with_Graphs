{
  "nbformat": 4,
  "nbformat_minor": 0,
  "metadata": {
    "colab": {
      "provenance": []
    },
    "kernelspec": {
      "name": "python3",
      "display_name": "Python 3"
    },
    "language_info": {
      "name": "python"
    }
  },
  "cells": [
    {
      "cell_type": "code",
      "execution_count": 1,
      "metadata": {
        "colab": {
          "base_uri": "https://localhost:8080/"
        },
        "id": "p-RO2iZSWwtG",
        "outputId": "4c6264b5-db02-4d9c-b7a2-dfd325f54f27"
      },
      "outputs": [
        {
          "output_type": "stream",
          "name": "stdout",
          "text": [
            "Requirement already satisfied: torch in /usr/local/lib/python3.12/dist-packages (2.8.0+cu126)\n",
            "Requirement already satisfied: filelock in /usr/local/lib/python3.12/dist-packages (from torch) (3.19.1)\n",
            "Requirement already satisfied: typing-extensions>=4.10.0 in /usr/local/lib/python3.12/dist-packages (from torch) (4.15.0)\n",
            "Requirement already satisfied: setuptools in /usr/local/lib/python3.12/dist-packages (from torch) (75.2.0)\n",
            "Requirement already satisfied: sympy>=1.13.3 in /usr/local/lib/python3.12/dist-packages (from torch) (1.13.3)\n",
            "Requirement already satisfied: networkx in /usr/local/lib/python3.12/dist-packages (from torch) (3.5)\n",
            "Requirement already satisfied: jinja2 in /usr/local/lib/python3.12/dist-packages (from torch) (3.1.6)\n",
            "Requirement already satisfied: fsspec in /usr/local/lib/python3.12/dist-packages (from torch) (2025.3.0)\n",
            "Requirement already satisfied: nvidia-cuda-nvrtc-cu12==12.6.77 in /usr/local/lib/python3.12/dist-packages (from torch) (12.6.77)\n",
            "Requirement already satisfied: nvidia-cuda-runtime-cu12==12.6.77 in /usr/local/lib/python3.12/dist-packages (from torch) (12.6.77)\n",
            "Requirement already satisfied: nvidia-cuda-cupti-cu12==12.6.80 in /usr/local/lib/python3.12/dist-packages (from torch) (12.6.80)\n",
            "Requirement already satisfied: nvidia-cudnn-cu12==9.10.2.21 in /usr/local/lib/python3.12/dist-packages (from torch) (9.10.2.21)\n",
            "Requirement already satisfied: nvidia-cublas-cu12==12.6.4.1 in /usr/local/lib/python3.12/dist-packages (from torch) (12.6.4.1)\n",
            "Requirement already satisfied: nvidia-cufft-cu12==11.3.0.4 in /usr/local/lib/python3.12/dist-packages (from torch) (11.3.0.4)\n",
            "Requirement already satisfied: nvidia-curand-cu12==10.3.7.77 in /usr/local/lib/python3.12/dist-packages (from torch) (10.3.7.77)\n",
            "Requirement already satisfied: nvidia-cusolver-cu12==11.7.1.2 in /usr/local/lib/python3.12/dist-packages (from torch) (11.7.1.2)\n",
            "Requirement already satisfied: nvidia-cusparse-cu12==12.5.4.2 in /usr/local/lib/python3.12/dist-packages (from torch) (12.5.4.2)\n",
            "Requirement already satisfied: nvidia-cusparselt-cu12==0.7.1 in /usr/local/lib/python3.12/dist-packages (from torch) (0.7.1)\n",
            "Requirement already satisfied: nvidia-nccl-cu12==2.27.3 in /usr/local/lib/python3.12/dist-packages (from torch) (2.27.3)\n",
            "Requirement already satisfied: nvidia-nvtx-cu12==12.6.77 in /usr/local/lib/python3.12/dist-packages (from torch) (12.6.77)\n",
            "Requirement already satisfied: nvidia-nvjitlink-cu12==12.6.85 in /usr/local/lib/python3.12/dist-packages (from torch) (12.6.85)\n",
            "Requirement already satisfied: nvidia-cufile-cu12==1.11.1.6 in /usr/local/lib/python3.12/dist-packages (from torch) (1.11.1.6)\n",
            "Requirement already satisfied: triton==3.4.0 in /usr/local/lib/python3.12/dist-packages (from torch) (3.4.0)\n",
            "Requirement already satisfied: mpmath<1.4,>=1.1.0 in /usr/local/lib/python3.12/dist-packages (from sympy>=1.13.3->torch) (1.3.0)\n",
            "Requirement already satisfied: MarkupSafe>=2.0 in /usr/local/lib/python3.12/dist-packages (from jinja2->torch) (3.0.2)\n"
          ]
        }
      ],
      "source": [
        "!pip install torch"
      ]
    },
    {
      "cell_type": "code",
      "source": [
        "import torch\n",
        "import torch.nn as nn\n",
        "import torch.nn.functional as F"
      ],
      "metadata": {
        "id": "p6s1tzeXW5SD"
      },
      "execution_count": 2,
      "outputs": []
    },
    {
      "cell_type": "code",
      "source": [
        "class GCNLayer(nn.Module):\n",
        "    \"\"\"\n",
        "        GCN layer\n",
        "\n",
        "        Args:\n",
        "            input_dim (int): Dimension of the input\n",
        "            output_dim (int): Dimension of the output (a softmax distribution)\n",
        "            A (torch.Tensor): 2D adjacency matrix\n",
        "    \"\"\"\n",
        "\n",
        "    def __init__(self, input_dim: int, output_dim: int, A: torch.Tensor):\n",
        "        super(GCNLayer, self).__init__()\n",
        "        self.input_dim = input_dim\n",
        "        self.output_dim = output_dim\n",
        "        self.A = A\n",
        "\n",
        "        # A_hat = A + I\n",
        "        self.A_hat = self.A + torch.eye(self.A.size(0))\n",
        "\n",
        "        # Create diagonal degree matrix D\n",
        "        self.ones = torch.ones(input_dim, input_dim)\n",
        "        self.D = torch.matmul(self.A.float(), self.ones.float())\n",
        "\n",
        "        # Extract the diagonal elements\n",
        "        self.D = torch.diag(self.D)\n",
        "\n",
        "        # Create a new tensor with the diagonal elements and zeros elsewhere\n",
        "        self.D = torch.diag_embed(self.D)\n",
        "\n",
        "        # Create D^{-1/2}\n",
        "        self.D_neg_sqrt = torch.diag_embed(torch.diag(torch.pow(self.D, -0.5)))\n",
        "\n",
        "        # Initialise the weight matrix as a parameter\n",
        "        self.W = nn.Parameter(torch.rand(input_dim, output_dim))\n",
        "\n",
        "    def forward(self, X: torch.Tensor):\n",
        "\n",
        "        # D^-1/2 * (A_hat * D^-1/2)\n",
        "        support_1 = torch.matmul(self.D_neg_sqrt, torch.matmul(self.A_hat, self.D_neg_sqrt))\n",
        "\n",
        "        # (D^-1/2 * A_hat * D^-1/2) * (X * W)\n",
        "        support_2 = torch.matmul(support_1, torch.matmul(X, self.W))\n",
        "\n",
        "        # ReLU(D^-1/2 * A_hat * D^-1/2 * X * W)\n",
        "        H = F.relu(support_2)\n",
        "\n",
        "        return H\n",
        "\n",
        "if __name__ == \"__main__\":\n",
        "\n",
        "    # Example Usage\n",
        "    input_dim = 3  # Assuming the input dimension is 3\n",
        "    output_dim = 2  # Assuming the output dimension is 2\n",
        "\n",
        "    # Example adjacency matrix\n",
        "    A = torch.tensor([[1., 0., 0.],\n",
        "                      [0., 1., 1.],\n",
        "                      [0., 1., 1.]])\n",
        "\n",
        "    # Create the GCN Layer\n",
        "    gcn_layer = GCNLayer(input_dim, output_dim, A)\n",
        "\n",
        "    # Example input feature matrix\n",
        "    X = torch.tensor([[1., 2., 3.],\n",
        "                      [4., 5., 6.],\n",
        "                      [7., 8., 9.]])\n",
        "\n",
        "    # Forward pass\n",
        "    output = gcn_layer(X)\n",
        "\n",
        "    print(output)\n",
        "    # tensor([[ 6.3438,  5.8004],\n",
        "    #         [13.3558, 13.7459],\n",
        "    #         [15.5052, 16.0948]], grad_fn=<ReluBackward0>)"
      ],
      "metadata": {
        "colab": {
          "base_uri": "https://localhost:8080/"
        },
        "id": "EJSkdyfPW_XQ",
        "outputId": "cb12f6b2-aee7-498c-9b4e-24c0d29e7005"
      },
      "execution_count": 3,
      "outputs": [
        {
          "output_type": "stream",
          "name": "stdout",
          "text": [
            "tensor([[ 5.6087,  5.9793],\n",
            "        [14.5797, 15.4713],\n",
            "        [17.1730, 18.2180]], grad_fn=<ReluBackward0>)\n"
          ]
        }
      ]
    },
    {
      "cell_type": "code",
      "source": [],
      "metadata": {
        "id": "5OTDensJW_Zh"
      },
      "execution_count": null,
      "outputs": []
    },
    {
      "cell_type": "code",
      "source": [],
      "metadata": {
        "id": "470QwPAEW_b3"
      },
      "execution_count": null,
      "outputs": []
    },
    {
      "cell_type": "code",
      "source": [],
      "metadata": {
        "id": "jjRUtGytW_d8"
      },
      "execution_count": null,
      "outputs": []
    },
    {
      "cell_type": "code",
      "source": [],
      "metadata": {
        "id": "OtuOghWdW_gC"
      },
      "execution_count": null,
      "outputs": []
    },
    {
      "cell_type": "code",
      "source": [],
      "metadata": {
        "id": "dmlkReRwW_h3"
      },
      "execution_count": null,
      "outputs": []
    },
    {
      "cell_type": "code",
      "source": [],
      "metadata": {
        "id": "ylViiPVoW_j8"
      },
      "execution_count": null,
      "outputs": []
    },
    {
      "cell_type": "code",
      "source": [],
      "metadata": {
        "id": "A1fCBdh5W_lx"
      },
      "execution_count": null,
      "outputs": []
    }
  ]
}