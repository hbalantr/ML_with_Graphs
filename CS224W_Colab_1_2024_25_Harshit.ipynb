{
  "nbformat": 4,
  "nbformat_minor": 0,
  "metadata": {
    "kernelspec": {
      "display_name": "Python 3",
      "language": "python",
      "name": "python3"
    },
    "language_info": {
      "codemirror_mode": {
        "name": "ipython",
        "version": 3
      },
      "file_extension": ".py",
      "mimetype": "text/x-python",
      "name": "python",
      "nbconvert_exporter": "python",
      "pygments_lexer": "ipython3",
      "version": "3.7.3"
    },
    "colab": {
      "provenance": [],
      "machine_shape": "hm"
    }
  },
  "cells": [
    {
      "cell_type": "markdown",
      "metadata": {
        "id": "XuXWJLEm2UWS"
      },
      "source": [
        "# **CS224W - Colab 1**"
      ]
    },
    {
      "cell_type": "markdown",
      "metadata": {
        "id": "8gzsP50bF6Gb"
      },
      "source": [
        "In this Colab, we will write a full pipeline for **learning node embeddings**.\n",
        "We will go through the following 3 steps.\n",
        "\n",
        "To start, we will load a classic graph in network science, the [Karate Club Network](https://en.wikipedia.org/wiki/Zachary%27s_karate_club). We will explore multiple graph statistics for that graph.\n",
        "\n",
        "We will then work together to transform the graph structure into a PyTorch tensor, so that we can perform machine learning over the graph.\n",
        "\n",
        "Finally, we will finish the first learning algorithm on graphs: a node embedding model. For simplicity, our model here is simpler than DeepWalk / node2vec algorithms taught in the lecture. But it's still rewarding and challenging, as we will write it from scratch via PyTorch.\n",
        "\n",
        "Now let's get started! This Colab should take 1-2 hours to complete.\n",
        "\n",
        "**Note**: Make sure to **restart and run all** before submission, so that the intermediate variables / packages will carry over to the next cell"
      ]
    },
    {
      "cell_type": "markdown",
      "metadata": {
        "id": "Nwwq0nSdmsOL"
      },
      "source": [
        "# 1 Graph Basics\n",
        "To start, we will load a classic graph in network science, the [Karate Club Network](https://en.wikipedia.org/wiki/Zachary%27s_karate_club). We will explore multiple graph statistics for that graph."
      ]
    },
    {
      "cell_type": "markdown",
      "metadata": {
        "id": "FDkpByYYfSzb"
      },
      "source": [
        "## Setup\n",
        "We will heavily use NetworkX in this Colab."
      ]
    },
    {
      "cell_type": "code",
      "metadata": {
        "id": "VWPkJjPAfVNW"
      },
      "source": [
        "import networkx as nx"
      ],
      "execution_count": 1,
      "outputs": []
    },
    {
      "cell_type": "markdown",
      "metadata": {
        "id": "VqUnYT5qUZYh"
      },
      "source": [
        "## Zachary's karate club network\n",
        "\n",
        "The [Karate Club Network](https://en.wikipedia.org/wiki/Zachary%27s_karate_club) is a graph which describes a social network of 34 members of a karate club and documents links between members who interacted outside the club."
      ]
    },
    {
      "cell_type": "code",
      "metadata": {
        "id": "VIETqEfrfy5Y",
        "colab": {
          "base_uri": "https://localhost:8080/",
          "height": 187
        },
        "outputId": "f9f5ca9b-eeea-4b68-cad3-219e1d0d6d98"
      },
      "source": [
        "G = nx.karate_club_graph()\n",
        "\n",
        "# G is an undirected graph\n",
        "type(G)"
      ],
      "execution_count": 2,
      "outputs": [
        {
          "output_type": "execute_result",
          "data": {
            "text/plain": [
              "networkx.classes.graph.Graph"
            ],
            "text/html": [
              "<div style=\"max-width:800px; border: 1px solid var(--colab-border-color);\"><style>\n",
              "      pre.function-repr-contents {\n",
              "        overflow-x: auto;\n",
              "        padding: 8px 12px;\n",
              "        max-height: 500px;\n",
              "      }\n",
              "\n",
              "      pre.function-repr-contents.function-repr-contents-collapsed {\n",
              "        cursor: pointer;\n",
              "        max-height: 100px;\n",
              "      }\n",
              "    </style>\n",
              "    <pre style=\"white-space: initial; background:\n",
              "         var(--colab-secondary-surface-color); padding: 8px 12px;\n",
              "         border-bottom: 1px solid var(--colab-border-color);\"><b>networkx.classes.graph.Graph</b><br/>def __init__(incoming_graph_data=None, **attr)</pre><pre class=\"function-repr-contents function-repr-contents-collapsed\" style=\"\"><a class=\"filepath\" style=\"display:none\" href=\"#\">/usr/local/lib/python3.12/dist-packages/networkx/classes/graph.py</a>Base class for undirected graphs.\n",
              "\n",
              "A Graph stores nodes and edges with optional data, or attributes.\n",
              "\n",
              "Graphs hold undirected edges.  Self loops are allowed but multiple\n",
              "(parallel) edges are not.\n",
              "\n",
              "Nodes can be arbitrary (hashable) Python objects with optional\n",
              "key/value attributes, except that `None` is not allowed as a node.\n",
              "\n",
              "Edges are represented as links between nodes with optional\n",
              "key/value attributes.\n",
              "\n",
              "Parameters\n",
              "----------\n",
              "incoming_graph_data : input graph (optional, default: None)\n",
              "    Data to initialize graph. If None (default) an empty\n",
              "    graph is created.  The data can be any format that is supported\n",
              "    by the to_networkx_graph() function, currently including edge list,\n",
              "    dict of dicts, dict of lists, NetworkX graph, 2D NumPy array, SciPy\n",
              "    sparse matrix, or PyGraphviz graph.\n",
              "\n",
              "attr : keyword arguments, optional (default= no attributes)\n",
              "    Attributes to add to graph as key=value pairs.\n",
              "\n",
              "See Also\n",
              "--------\n",
              "DiGraph\n",
              "MultiGraph\n",
              "MultiDiGraph\n",
              "\n",
              "Examples\n",
              "--------\n",
              "Create an empty graph structure (a &quot;null graph&quot;) with no nodes and\n",
              "no edges.\n",
              "\n",
              "&gt;&gt;&gt; G = nx.Graph()\n",
              "\n",
              "G can be grown in several ways.\n",
              "\n",
              "**Nodes:**\n",
              "\n",
              "Add one node at a time:\n",
              "\n",
              "&gt;&gt;&gt; G.add_node(1)\n",
              "\n",
              "Add the nodes from any container (a list, dict, set or\n",
              "even the lines from a file or the nodes from another graph).\n",
              "\n",
              "&gt;&gt;&gt; G.add_nodes_from([2, 3])\n",
              "&gt;&gt;&gt; G.add_nodes_from(range(100, 110))\n",
              "&gt;&gt;&gt; H = nx.path_graph(10)\n",
              "&gt;&gt;&gt; G.add_nodes_from(H)\n",
              "\n",
              "In addition to strings and integers any hashable Python object\n",
              "(except None) can represent a node, e.g. a customized node object,\n",
              "or even another Graph.\n",
              "\n",
              "&gt;&gt;&gt; G.add_node(H)\n",
              "\n",
              "**Edges:**\n",
              "\n",
              "G can also be grown by adding edges.\n",
              "\n",
              "Add one edge,\n",
              "\n",
              "&gt;&gt;&gt; G.add_edge(1, 2)\n",
              "\n",
              "a list of edges,\n",
              "\n",
              "&gt;&gt;&gt; G.add_edges_from([(1, 2), (1, 3)])\n",
              "\n",
              "or a collection of edges,\n",
              "\n",
              "&gt;&gt;&gt; G.add_edges_from(H.edges)\n",
              "\n",
              "If some edges connect nodes not yet in the graph, the nodes\n",
              "are added automatically.  There are no errors when adding\n",
              "nodes or edges that already exist.\n",
              "\n",
              "**Attributes:**\n",
              "\n",
              "Each graph, node, and edge can hold key/value attribute pairs\n",
              "in an associated attribute dictionary (the keys must be hashable).\n",
              "By default these are empty, but can be added or changed using\n",
              "add_edge, add_node or direct manipulation of the attribute\n",
              "dictionaries named graph, node and edge respectively.\n",
              "\n",
              "&gt;&gt;&gt; G = nx.Graph(day=&quot;Friday&quot;)\n",
              "&gt;&gt;&gt; G.graph\n",
              "{&#x27;day&#x27;: &#x27;Friday&#x27;}\n",
              "\n",
              "Add node attributes using add_node(), add_nodes_from() or G.nodes\n",
              "\n",
              "&gt;&gt;&gt; G.add_node(1, time=&quot;5pm&quot;)\n",
              "&gt;&gt;&gt; G.add_nodes_from([3], time=&quot;2pm&quot;)\n",
              "&gt;&gt;&gt; G.nodes[1]\n",
              "{&#x27;time&#x27;: &#x27;5pm&#x27;}\n",
              "&gt;&gt;&gt; G.nodes[1][&quot;room&quot;] = 714  # node must exist already to use G.nodes\n",
              "&gt;&gt;&gt; del G.nodes[1][&quot;room&quot;]  # remove attribute\n",
              "&gt;&gt;&gt; list(G.nodes(data=True))\n",
              "[(1, {&#x27;time&#x27;: &#x27;5pm&#x27;}), (3, {&#x27;time&#x27;: &#x27;2pm&#x27;})]\n",
              "\n",
              "Add edge attributes using add_edge(), add_edges_from(), subscript\n",
              "notation, or G.edges.\n",
              "\n",
              "&gt;&gt;&gt; G.add_edge(1, 2, weight=4.7)\n",
              "&gt;&gt;&gt; G.add_edges_from([(3, 4), (4, 5)], color=&quot;red&quot;)\n",
              "&gt;&gt;&gt; G.add_edges_from([(1, 2, {&quot;color&quot;: &quot;blue&quot;}), (2, 3, {&quot;weight&quot;: 8})])\n",
              "&gt;&gt;&gt; G[1][2][&quot;weight&quot;] = 4.7\n",
              "&gt;&gt;&gt; G.edges[1, 2][&quot;weight&quot;] = 4\n",
              "\n",
              "Warning: we protect the graph data structure by making `G.edges` a\n",
              "read-only dict-like structure. However, you can assign to attributes\n",
              "in e.g. `G.edges[1, 2]`. Thus, use 2 sets of brackets to add/change\n",
              "data attributes: `G.edges[1, 2][&#x27;weight&#x27;] = 4`\n",
              "(For multigraphs: `MG.edges[u, v, key][name] = value`).\n",
              "\n",
              "**Shortcuts:**\n",
              "\n",
              "Many common graph features allow python syntax to speed reporting.\n",
              "\n",
              "&gt;&gt;&gt; 1 in G  # check if node in graph\n",
              "True\n",
              "&gt;&gt;&gt; [n for n in G if n &lt; 3]  # iterate through nodes\n",
              "[1, 2]\n",
              "&gt;&gt;&gt; len(G)  # number of nodes in graph\n",
              "5\n",
              "\n",
              "Often the best way to traverse all edges of a graph is via the neighbors.\n",
              "The neighbors are reported as an adjacency-dict `G.adj` or `G.adjacency()`\n",
              "\n",
              "&gt;&gt;&gt; for n, nbrsdict in G.adjacency():\n",
              "...     for nbr, eattr in nbrsdict.items():\n",
              "...         if &quot;weight&quot; in eattr:\n",
              "...             # Do something useful with the edges\n",
              "...             pass\n",
              "\n",
              "But the edges() method is often more convenient:\n",
              "\n",
              "&gt;&gt;&gt; for u, v, weight in G.edges.data(&quot;weight&quot;):\n",
              "...     if weight is not None:\n",
              "...         # Do something useful with the edges\n",
              "...         pass\n",
              "\n",
              "**Reporting:**\n",
              "\n",
              "Simple graph information is obtained using object-attributes and methods.\n",
              "Reporting typically provides views instead of containers to reduce memory\n",
              "usage. The views update as the graph is updated similarly to dict-views.\n",
              "The objects `nodes`, `edges` and `adj` provide access to data attributes\n",
              "via lookup (e.g. `nodes[n]`, `edges[u, v]`, `adj[u][v]`) and iteration\n",
              "(e.g. `nodes.items()`, `nodes.data(&#x27;color&#x27;)`,\n",
              "`nodes.data(&#x27;color&#x27;, default=&#x27;blue&#x27;)` and similarly for `edges`)\n",
              "Views exist for `nodes`, `edges`, `neighbors()`/`adj` and `degree`.\n",
              "\n",
              "For details on these and other miscellaneous methods, see below.\n",
              "\n",
              "**Subclasses (Advanced):**\n",
              "\n",
              "The Graph class uses a dict-of-dict-of-dict data structure.\n",
              "The outer dict (node_dict) holds adjacency information keyed by node.\n",
              "The next dict (adjlist_dict) represents the adjacency information and holds\n",
              "edge data keyed by neighbor.  The inner dict (edge_attr_dict) represents\n",
              "the edge data and holds edge attribute values keyed by attribute names.\n",
              "\n",
              "Each of these three dicts can be replaced in a subclass by a user defined\n",
              "dict-like object. In general, the dict-like features should be\n",
              "maintained but extra features can be added. To replace one of the\n",
              "dicts create a new graph class by changing the class(!) variable\n",
              "holding the factory for that dict-like structure.\n",
              "\n",
              "node_dict_factory : function, (default: dict)\n",
              "    Factory function to be used to create the dict containing node\n",
              "    attributes, keyed by node id.\n",
              "    It should require no arguments and return a dict-like object\n",
              "\n",
              "node_attr_dict_factory: function, (default: dict)\n",
              "    Factory function to be used to create the node attribute\n",
              "    dict which holds attribute values keyed by attribute name.\n",
              "    It should require no arguments and return a dict-like object\n",
              "\n",
              "adjlist_outer_dict_factory : function, (default: dict)\n",
              "    Factory function to be used to create the outer-most dict\n",
              "    in the data structure that holds adjacency info keyed by node.\n",
              "    It should require no arguments and return a dict-like object.\n",
              "\n",
              "adjlist_inner_dict_factory : function, (default: dict)\n",
              "    Factory function to be used to create the adjacency list\n",
              "    dict which holds edge data keyed by neighbor.\n",
              "    It should require no arguments and return a dict-like object\n",
              "\n",
              "edge_attr_dict_factory : function, (default: dict)\n",
              "    Factory function to be used to create the edge attribute\n",
              "    dict which holds attribute values keyed by attribute name.\n",
              "    It should require no arguments and return a dict-like object.\n",
              "\n",
              "graph_attr_dict_factory : function, (default: dict)\n",
              "    Factory function to be used to create the graph attribute\n",
              "    dict which holds attribute values keyed by attribute name.\n",
              "    It should require no arguments and return a dict-like object.\n",
              "\n",
              "Typically, if your extension doesn&#x27;t impact the data structure all\n",
              "methods will inherit without issue except: `to_directed/to_undirected`.\n",
              "By default these methods create a DiGraph/Graph class and you probably\n",
              "want them to create your extension of a DiGraph/Graph. To facilitate\n",
              "this we define two class variables that you can set in your subclass.\n",
              "\n",
              "to_directed_class : callable, (default: DiGraph or MultiDiGraph)\n",
              "    Class to create a new graph structure in the `to_directed` method.\n",
              "    If `None`, a NetworkX class (DiGraph or MultiDiGraph) is used.\n",
              "\n",
              "to_undirected_class : callable, (default: Graph or MultiGraph)\n",
              "    Class to create a new graph structure in the `to_undirected` method.\n",
              "    If `None`, a NetworkX class (Graph or MultiGraph) is used.\n",
              "\n",
              "**Subclassing Example**\n",
              "\n",
              "Create a low memory graph class that effectively disallows edge\n",
              "attributes by using a single attribute dict for all edges.\n",
              "This reduces the memory used, but you lose edge attributes.\n",
              "\n",
              "&gt;&gt;&gt; class ThinGraph(nx.Graph):\n",
              "...     all_edge_dict = {&quot;weight&quot;: 1}\n",
              "...\n",
              "...     def single_edge_dict(self):\n",
              "...         return self.all_edge_dict\n",
              "...\n",
              "...     edge_attr_dict_factory = single_edge_dict\n",
              "&gt;&gt;&gt; G = ThinGraph()\n",
              "&gt;&gt;&gt; G.add_edge(2, 1)\n",
              "&gt;&gt;&gt; G[2][1]\n",
              "{&#x27;weight&#x27;: 1}\n",
              "&gt;&gt;&gt; G.add_edge(2, 2)\n",
              "&gt;&gt;&gt; G[2][1] is G[2][2]\n",
              "True</pre>\n",
              "      <script>\n",
              "      if (google.colab.kernel.accessAllowed && google.colab.files && google.colab.files.view) {\n",
              "        for (const element of document.querySelectorAll('.filepath')) {\n",
              "          element.style.display = 'block'\n",
              "          element.onclick = (event) => {\n",
              "            event.preventDefault();\n",
              "            event.stopPropagation();\n",
              "            google.colab.files.view(element.textContent, 71);\n",
              "          };\n",
              "        }\n",
              "      }\n",
              "      for (const element of document.querySelectorAll('.function-repr-contents')) {\n",
              "        element.onclick = (event) => {\n",
              "          event.preventDefault();\n",
              "          event.stopPropagation();\n",
              "          element.classList.toggle('function-repr-contents-collapsed');\n",
              "        };\n",
              "      }\n",
              "      </script>\n",
              "      </div>"
            ]
          },
          "metadata": {},
          "execution_count": 2
        }
      ]
    },
    {
      "cell_type": "code",
      "metadata": {
        "id": "hDvf3nm-ors4",
        "colab": {
          "base_uri": "https://localhost:8080/",
          "height": 516
        },
        "outputId": "bcf03f0a-f2cf-44d9-a069-72005cb40435"
      },
      "source": [
        "# Visualize the graph\n",
        "nx.draw(G, with_labels = True)"
      ],
      "execution_count": 3,
      "outputs": [
        {
          "output_type": "display_data",
          "data": {
            "text/plain": [
              "<Figure size 640x480 with 1 Axes>"
            ],
            "image/png": "[encoded data removed]"
          },
          "metadata": {}
        }
      ]
    },
    {
      "cell_type": "markdown",
      "metadata": {
        "id": "FX25Y1CrYmgN"
      },
      "source": [
        "## Question 1: What is the average degree of the karate club network? (5 Points)"
      ]
    },
    {
      "cell_type": "code",
      "metadata": {
        "id": "AUhES1VYo3tB",
        "colab": {
          "base_uri": "https://localhost:8080/"
        },
        "outputId": "f15b7776-9ceb-4635-adff-d892c573e1a1"
      },
      "source": [
        "def average_degree(num_edges, num_nodes):\n",
        "  # TODO: Implement this function that takes number of edges\n",
        "  # and number of nodes, and returns the average node degree of\n",
        "  # the graph. Round the result to nearest integer (for example\n",
        "  # 3.3 will be rounded to 3 and 3.7 will be rounded to 4)\n",
        "\n",
        "  avg_degree = 0\n",
        "\n",
        "  ############# Your code here ############\n",
        "  avg_degree = avg_degree+ 2*num_edges/num_nodes\n",
        "  avg_degree = round(avg_degree)\n",
        "  #########################################\n",
        "\n",
        "  return avg_degree\n",
        "\n",
        "num_edges = G.number_of_edges()\n",
        "num_nodes = G.number_of_nodes()\n",
        "avg_degree = average_degree(num_edges, num_nodes)\n",
        "print(\"Average degree of karate club network is {}\".format(avg_degree))"
      ],
      "execution_count": 4,
      "outputs": [
        {
          "output_type": "stream",
          "name": "stdout",
          "text": [
            "Average degree of karate club network is 5\n"
          ]
        }
      ]
    },
    {
      "cell_type": "markdown",
      "metadata": {
        "id": "Fk02fD4vYmZI"
      },
      "source": [
        "## Question 2: What is the average clustering coefficient of the karate club network? (5 Points)"
      ]
    },
    {
      "cell_type": "code",
      "metadata": {
        "id": "k15XKEto1aYJ",
        "colab": {
          "base_uri": "https://localhost:8080/"
        },
        "outputId": "239b7570-8503-4749-9d3a-e8e664dcb6f8"
      },
      "source": [
        "def average_clustering_coefficient(G):\n",
        "  # TODO: Implement this function that takes a nx.Graph\n",
        "  # and returns the average clustering coefficient. Round\n",
        "  # the result to 2 decimal places (for example 3.333 will\n",
        "  # be rounded to 3.33 and 3.7571 will be rounded to 3.76)\n",
        "\n",
        "  avg_cluster_coef = 0\n",
        "  avg_cluster_coef= avg_cluster_coef+ nx.average_clustering(G)\n",
        "  avg_cluster_coef = round(avg_cluster_coef,2)\n",
        "\n",
        "  ############# Your code here ############\n",
        "  ## Note:\n",
        "  ## 1: Please use the appropriate NetworkX clustering function\n",
        "\n",
        "  #########################################\n",
        "\n",
        "  return avg_cluster_coef\n",
        "\n",
        "avg_cluster_coef = average_clustering_coefficient(G)\n",
        "print(\"Average clustering coefficient of karate club network is {}\".format(avg_cluster_coef))"
      ],
      "execution_count": 5,
      "outputs": [
        {
          "output_type": "stream",
          "name": "stdout",
          "text": [
            "Average clustering coefficient of karate club network is 0.57\n"
          ]
        }
      ]
    },
    {
      "cell_type": "markdown",
      "source": [
        "# Implementation of the Clustering coefficient of the graph from scratch - My own code"
      ],
      "metadata": {
        "id": "7nA86iXOb5gx"
      }
    },
    {
      "cell_type": "code",
      "source": [
        "def average_clustering(G):\n",
        "    n = len(G.nodes()) # This tells the length of the number of nodes\n",
        "    if n == 0:\n",
        "        return 0\n",
        "    total = 0\n",
        "    for node in G.nodes():\n",
        "        neighbors = list(G.neighbors(node)) # G.neighbors(node) retursn the neighbors connected to the node.\n",
        "        k = len(neighbors)\n",
        "        edges_between_neighbors = 0\n",
        "        for i in range(k):                               # This double loop means it checks the neighbors and then not repeating them self and checks whether we have edge between them or not.\n",
        "            for j in range(i+1, k):\n",
        "                if G.has_edge(neighbors[i], neighbors[j]):\n",
        "                    edges_between_neighbors += 1\n",
        "        if k >= 2:  # avoid divide by zero\n",
        "            Cv = (2.0 * edges_between_neighbors) / (k * (k - 1))\n",
        "            total += Cv\n",
        "        # if k < 2, Cv = 0 (no contribution)\n",
        "\n",
        "    return round(total / n, 2)\n",
        "\n",
        "\n",
        "print(average_clustering(G))\n"
      ],
      "metadata": {
        "colab": {
          "base_uri": "https://localhost:8080/"
        },
        "id": "8D31icpvb37_",
        "outputId": "324dfb8c-c357-464e-8d6b-606dccc8b79b"
      },
      "execution_count": 6,
      "outputs": [
        {
          "output_type": "stream",
          "name": "stdout",
          "text": [
            "0.57\n"
          ]
        }
      ]
    },
    {
      "cell_type": "markdown",
      "source": [],
      "metadata": {
        "id": "Si83MUydb420"
      }
    },
    {
      "cell_type": "markdown",
      "metadata": {
        "id": "zghQ-AhXYmP4"
      },
      "source": [
        "## Question 3: What is the PageRank value for node 0 (node with id 0) after one PageRank iteration? (5 Points)\n",
        "\n",
        "Page Rank measures importance of nodes in a graph using the link structure of the web. A “vote” from an important page is worth more. Specifically, if  a page $i$ with importance $r_i$ has $d_i$ out-links, then each link gets $\\frac{r_i}{d_i}$ votes. Thus, the importance of a Page $j$, represented as $r_j$ is the sum of the votes on its in links.\n",
        "$$r_j = \\sum_{i \\rightarrow j} \\frac{r_i}{d_i}$$, where $d_i$ is the out degree of node $i$.\n",
        "\n",
        "The PageRank algorithm (used by Google) outputs a probability distribution which represent the likelihood of a random surfer clicking on links will arrive at any particular page. At each time step, the random surfer has two options\n",
        "- With prob. $\\beta$, follow a link at random\n",
        "- With prob. $1- \\beta$, jump to a random page\n",
        "\n",
        "Thus, the importance of a particular page is calculated with the following PageRank equation:\n",
        " $$r_j = \\sum_{i \\rightarrow j} \\beta \\frac{r_i}{d_i} + (1 - \\beta) \\frac{1}{N}$$\n",
        "\n",
        "Please complete the code block by implementing the above PageRank equation for node 0.\n",
        "\n",
        "Note - You can refer to more information from the slides here - http://snap.stanford.edu/class/cs224w-2020/slides/04-pagerank.pdf\n",
        "\n",
        "\n"
      ]
    },
    {
      "cell_type": "code",
      "metadata": {
        "id": "BOGdWjNc6O7x",
        "colab": {
          "base_uri": "https://localhost:8080/"
        },
        "outputId": "843283fb-44ee-4636-fc9e-65414937dedb"
      },
      "source": [
        "def one_iter_pagerank(G, beta, r0, node_id):\n",
        "    \"\"\"\n",
        "    One iteration of PageRank for a single node.\n",
        "    G: nx.Graph\n",
        "    beta: damping factor\n",
        "    r0: initial rank (scalar if uniform, or dict if general)\n",
        "    node_id: node index\n",
        "    \"\"\"\n",
        "    N = G.number_of_nodes()\n",
        "\n",
        "    # handle uniform initialization\n",
        "    if isinstance(r0, (int, float)):\n",
        "        r0_val = {n: r0 for n in G.nodes()}\n",
        "    else:\n",
        "        r0_val = r0  # assume dict {node: rank}\n",
        "\n",
        "    # sum of neighbor contributions\n",
        "    neighbor_sum = 0.0\n",
        "    for nbr in G.predecessors(node_id) if G.is_directed() else G.neighbors(node_id):\n",
        "        deg = G.out_degree(nbr) if G.is_directed() else G.degree(nbr)\n",
        "        if deg > 0:\n",
        "            neighbor_sum += r0_val[nbr] / deg\n",
        "\n",
        "    r1 = (1 - beta) / N + beta * neighbor_sum\n",
        "    return round(r1, 2)\n",
        "\n",
        "\n",
        "# Example usage\n",
        "import networkx as nx\n",
        "G = nx.karate_club_graph()\n",
        "\n",
        "beta = 0.8\n",
        "r0 = 1 / G.number_of_nodes()\n",
        "node = 0\n",
        "\n",
        "r1 = one_iter_pagerank(G, beta, r0, node)\n",
        "print(\"The PageRank value for node 0 after one iteration is {}\".format(r1))\n"
      ],
      "execution_count": 31,
      "outputs": [
        {
          "output_type": "stream",
          "name": "stdout",
          "text": [
            "The PageRank value for node 0 after one iteration is 0.13\n"
          ]
        }
      ]
    },
    {
      "cell_type": "markdown",
      "metadata": {
        "id": "icTcOULeYmIu"
      },
      "source": [
        "## Question 4: What is the (raw) closeness centrality for the karate club network node 5? (5 Points)\n",
        "\n",
        "The equation for closeness centrality is $c(v) = \\frac{1}{\\sum_{u \\neq v}\\text{shortest path length between } u \\text{ and } v}$"
      ]
    },
    {
      "cell_type": "code",
      "metadata": {
        "id": "XbCsq_tl-3ok",
        "colab": {
          "base_uri": "https://localhost:8080/"
        },
        "outputId": "f25948e3-d8d2-4aff-a9c9-e975e837394f"
      },
      "source": [
        "def closeness_centrality(G, node=5):\n",
        "  # TODO: Implement the function that calculates closeness centrality\n",
        "  # for a node in karate club network. G is the input karate club\n",
        "  # network and node is the node id in the graph. Please round the\n",
        "  # closeness centrality result to 2 decimal places.\n",
        "\n",
        "  closeness = nx.closeness_centrality(G, node)\n",
        "    # Round to 2 decimal places\n",
        "\n",
        "\n",
        "  ## Note:\n",
        "  ## 1: You can use networkx closeness centrality function.\n",
        "  ## 2: Notice that networkx closeness centrality returns the normalized\n",
        "  ## closeness directly, which is different from the raw (unnormalized)\n",
        "  ## one that we learned in the lecture.\n",
        "\n",
        "  ############# Your code here ############\n",
        "\n",
        "  #########################################\n",
        "\n",
        "  return round(closeness, 2)\n",
        "\n",
        "node = 5\n",
        "closeness = closeness_centrality(G, node=node)\n",
        "print(\"The node 5 has closeness centrality {}\".format(closeness))"
      ],
      "execution_count": 7,
      "outputs": [
        {
          "output_type": "stream",
          "name": "stdout",
          "text": [
            "The node 5 has closeness centrality 0.38\n"
          ]
        }
      ]
    },
    {
      "cell_type": "markdown",
      "metadata": {
        "id": "-MxvowibYl4x"
      },
      "source": [
        "# 2 Graph to Tensor\n",
        "We will then work together to transform the graph $G$ into a PyTorch tensor, so that we can perform machine learning over the graph."
      ]
    },
    {
      "cell_type": "markdown",
      "metadata": {
        "id": "eDA8PosrA-9V"
      },
      "source": [
        "## Setup\n",
        "Check if PyTorch is properly installed"
      ]
    },
    {
      "cell_type": "code",
      "metadata": {
        "id": "ntuPVat_BAf1",
        "colab": {
          "base_uri": "https://localhost:8080/"
        },
        "outputId": "027403df-f512-4669-fa6a-887f1b698134"
      },
      "source": [
        "import torch\n",
        "print(torch.__version__)"
      ],
      "execution_count": 8,
      "outputs": [
        {
          "output_type": "stream",
          "name": "stdout",
          "text": [
            "2.8.0+cu126\n"
          ]
        }
      ]
    },
    {
      "cell_type": "markdown",
      "metadata": {
        "id": "fko_2wSKYlun"
      },
      "source": [
        "## PyTorch tensor basics\n",
        "\n",
        "We can generate PyTorch tensor with all zeros, ones or random values."
      ]
    },
    {
      "cell_type": "code",
      "metadata": {
        "id": "W2ySw3m-A9qF",
        "colab": {
          "base_uri": "https://localhost:8080/"
        },
        "outputId": "36f1e2c3-602a-4b94-f21b-a516f4358bdd"
      },
      "source": [
        "# Generate 3 x 4 tensor with all ones\n",
        "ones = torch.ones(3, 4)\n",
        "print(ones)\n",
        "\n",
        "# Generate 3 x 4 tensor with all zeros\n",
        "zeros = torch.zeros(3, 4)\n",
        "print(zeros)\n",
        "\n",
        "# Generate 3 x 4 tensor with random values on the interval [0, 1)\n",
        "random_tensor = torch.rand(3, 4)\n",
        "print(random_tensor)\n",
        "\n",
        "# Get the shape of the tensor\n",
        "print(ones.shape)"
      ],
      "execution_count": 9,
      "outputs": [
        {
          "output_type": "stream",
          "name": "stdout",
          "text": [
            "tensor([[1., 1., 1., 1.],\n",
            "        [1., 1., 1., 1.],\n",
            "        [1., 1., 1., 1.]])\n",
            "tensor([[0., 0., 0., 0.],\n",
            "        [0., 0., 0., 0.],\n",
            "        [0., 0., 0., 0.]])\n",
            "tensor([[0.7772, 0.5358, 0.0361, 0.3751],\n",
            "        [0.5600, 0.0138, 0.4743, 0.5190],\n",
            "        [0.4571, 0.8593, 0.7243, 0.6582]])\n",
            "torch.Size([3, 4])\n"
          ]
        }
      ]
    },
    {
      "cell_type": "markdown",
      "metadata": {
        "id": "x8mp66eHBxWC"
      },
      "source": [
        "PyTorch tensor contains elements for a single data type, the `dtype`."
      ]
    },
    {
      "cell_type": "code",
      "metadata": {
        "id": "rQiOvKJJBwq4",
        "colab": {
          "base_uri": "https://localhost:8080/"
        },
        "outputId": "f526768f-33c5-45f3-842f-c5fdbf8f4b06"
      },
      "source": [
        "# Create a 3 x 4 tensor with all 32-bit floating point zeros\n",
        "zeros = torch.zeros(3, 4, dtype=torch.float32)\n",
        "print(zeros.dtype)\n",
        "\n",
        "# Change the tensor dtype to 64-bit integer\n",
        "zeros = zeros.type(torch.long)\n",
        "print(zeros.dtype)"
      ],
      "execution_count": 10,
      "outputs": [
        {
          "output_type": "stream",
          "name": "stdout",
          "text": [
            "torch.float32\n",
            "torch.int64\n"
          ]
        }
      ]
    },
    {
      "cell_type": "markdown",
      "metadata": {
        "id": "I9EfegIRDkk2"
      },
      "source": [
        "## Question 5: Get the edge list of the karate club network and transform it into `torch.LongTensor`. What is the `torch.sum` value of `pos_edge_index` tensor? (10 Points)"
      ]
    },
    {
      "cell_type": "code",
      "metadata": {
        "id": "kEtVxMFID3ZT",
        "colab": {
          "base_uri": "https://localhost:8080/"
        },
        "outputId": "7c913edf-28c0-42e0-eb1f-35870fca369a"
      },
      "source": [
        "def graph_to_edge_list(G):\n",
        "  # TODO: Implement the function that returns the edge list of\n",
        "  # an nx.Graph. The returned edge_list should be a list of tuples\n",
        "  # where each tuple is a tuple representing an edge connected\n",
        "  # by two nodes.\n",
        "\n",
        "  edge_list = []\n",
        "\n",
        "  edge_list = list(G.edges())\n",
        "\n",
        "  edge_list = tuple(edge_list)\n",
        "\n",
        "\n",
        "  ############# Your code here ############\n",
        "\n",
        "  #########################################\n",
        "\n",
        "  return edge_list\n",
        "\n",
        "def edge_list_to_tensor(edge_list):\n",
        "  # TODO: Implement the function that transforms the edge_list to\n",
        "  # tensor. The input edge_list is a list of tuples and the resulting\n",
        "  # tensor should have the shape [2, len(edge_list)].\n",
        "\n",
        "  edge_index = torch.tensor([])\n",
        "\n",
        "  ############# Your code here ############\n",
        "  edge_index = torch.tensor(edge_list)\n",
        "  edge_index = edge_index.type(torch.LongTensor).t().contiguous()\n",
        "  #########################################\n",
        "\n",
        "  return edge_index\n",
        "\n",
        "pos_edge_list = graph_to_edge_list(G)\n",
        "pos_edge_index = edge_list_to_tensor(pos_edge_list)\n",
        "print(\"The pos_edge_index tensor has shape {}\".format(pos_edge_index.shape))\n",
        "print(\"The pos_edge_index tensor has sum value {}\".format(torch.sum(pos_edge_index)))\n",
        "print(pos_edge_index)\n",
        "\n",
        "# Contiguous - just makes sure the tensor is stored neatly in memory, so later reshaping and graph ops won’t break.\n",
        "# .t() is basically the transpose of the edge_index\n"
      ],
      "execution_count": 13,
      "outputs": [
        {
          "output_type": "stream",
          "name": "stdout",
          "text": [
            "The pos_edge_index tensor has shape torch.Size([2, 78])\n",
            "The pos_edge_index tensor has sum value 2535\n",
            "tensor([[ 0,  0,  0,  0,  0,  0,  0,  0,  0,  0,  0,  0,  0,  0,  0,  0,  1,  1,\n",
            "          1,  1,  1,  1,  1,  1,  2,  2,  2,  2,  2,  2,  2,  2,  3,  3,  3,  4,\n",
            "          4,  5,  5,  5,  6,  8,  8,  8,  9, 13, 14, 14, 15, 15, 18, 18, 19, 20,\n",
            "         20, 22, 22, 23, 23, 23, 23, 23, 24, 24, 24, 25, 26, 26, 27, 28, 28, 29,\n",
            "         29, 30, 30, 31, 31, 32],\n",
            "        [ 1,  2,  3,  4,  5,  6,  7,  8, 10, 11, 12, 13, 17, 19, 21, 31,  2,  3,\n",
            "          7, 13, 17, 19, 21, 30,  3,  7,  8,  9, 13, 27, 28, 32,  7, 12, 13,  6,\n",
            "         10,  6, 10, 16, 16, 30, 32, 33, 33, 33, 32, 33, 32, 33, 32, 33, 33, 32,\n",
            "         33, 32, 33, 25, 27, 29, 32, 33, 25, 27, 31, 31, 29, 33, 33, 31, 33, 32,\n",
            "         33, 32, 33, 32, 33, 33]])\n"
          ]
        }
      ]
    },
    {
      "cell_type": "markdown",
      "metadata": {
        "id": "UBL-ZmdHWqIu"
      },
      "source": [
        "## Question 6: Please implement following function that samples negative edges. Then answer which edges (edge_1 to edge_5) are the negative edges in the karate club network? (10 Points)\n",
        "\n",
        "\"Negative\" edges refer to the edges/links that do not exist in the graph. The term \"negative\" is borrowed from \"negative sampling\" in link prediction. It has nothing to do with the edge weights.\n",
        "\n",
        "For example, given an edge (src, dst), you should check that neither (src, dst) nor (dst, src) are edges in the Graph. If these hold true, then it is a negative edge."
      ]
    },
    {
      "cell_type": "code",
      "metadata": {
        "id": "9N8VT1f8-IJ8",
        "colab": {
          "base_uri": "https://localhost:8080/"
        },
        "outputId": "5a47c515-6323-4e81-8718-8d7e4d94d6b6"
      },
      "source": [
        "import random\n",
        "\n",
        "def sample_negative_edges(G, num_neg_samples):\n",
        "  # TODO: Implement the function that returns a list of negative edges.\n",
        "  # The number of sampled negative edges is num_neg_samples. You do not\n",
        "  # need to consider the corner case when the number of possible negative edges\n",
        "  # is less than num_neg_samples. It should be ok as long as your implementation\n",
        "  # works on the karate club network. In this implementation, self loops should\n",
        "  # not be considered as either a positive or negative edge. Also, notice that\n",
        "  # the karate club network is an undirected graph, if (0, 1) is a positive\n",
        "  # edge, do you think (1, 0) can be a negative one?\n",
        "\n",
        "  nodes = list(G.nodes())\n",
        "  pos_undirected = {frozenset((u, v)) for (u, v) in G.edges()}\n",
        "  neg_undirected = set()\n",
        "  neg_edge_list = []\n",
        "  while len(neg_edge_list) < num_neg_samples:\n",
        "        u, v = random.sample(nodes, 2)  # ensures u != v (no self-loop)\n",
        "        undirected_e = frozenset((u, v))\n",
        "\n",
        "        # Not an existing edge (in either direction) and not already picked\n",
        "        if undirected_e not in pos_undirected and undirected_e not in neg_undirected:\n",
        "            neg_undirected.add(undirected_e)\n",
        "            # store as an ordered tuple (u, v) — direction doesn’t matter for undirected\n",
        "            neg_edge_list.append((u, v))\n",
        "\n",
        "\n",
        "  ############# Your code here ############\n",
        "\n",
        "  #########################################\n",
        "\n",
        "  return neg_edge_list\n",
        "\n",
        "# Sample 78 negative edges\n",
        "neg_edge_list = sample_negative_edges(G, len(pos_edge_list))\n",
        "\n",
        "# Transform the negative edge list to tensor\n",
        "neg_edge_index = edge_list_to_tensor(neg_edge_list)\n",
        "print(\"The neg_edge_index tensor has shape {}\".format(neg_edge_index.shape))\n",
        "\n",
        "# Which of following edges can be negative ones?\n",
        "edge_1 = (7, 1)\n",
        "edge_2 = (1, 33)\n",
        "edge_3 = (33, 22)\n",
        "edge_4 = (0, 4)\n",
        "edge_5 = (4, 2)\n",
        "\n",
        "def can_be_negative(G, edge):\n",
        "  # TODO: Implement the function that tests if an edge is a negative\n",
        "  # edge in graph G.\n",
        "\n",
        "  is_negative = False\n",
        "\n",
        "  u, v = edge\n",
        "  if u == v:\n",
        "        return False  # s\n",
        "\n",
        "  is_negative = (not G.has_edge(u, v)) and (not G.has_edge(v, u))\n",
        "\n",
        "  ############# Your code here ############\n",
        "\n",
        "  #########################################\n",
        "\n",
        "  return is_negative\n",
        "\n",
        "print(f\"Edge 1 can be a negative edge: {can_be_negative(G, edge_1)}\")\n",
        "print(f\"Edge 2 can be a negative edge: {can_be_negative(G, edge_2)}\")\n",
        "print(f\"Edge 3 can be a negative edge: {can_be_negative(G, edge_3)}\")\n",
        "print(f\"Edge 4 can be a negative edge: {can_be_negative(G, edge_4)}\")\n",
        "print(f\"Edge 5 can be a negative edge: {can_be_negative(G, edge_5)}\")"
      ],
      "execution_count": 14,
      "outputs": [
        {
          "output_type": "stream",
          "name": "stdout",
          "text": [
            "The neg_edge_index tensor has shape torch.Size([2, 78])\n",
            "Edge 1 can be a negative edge: False\n",
            "Edge 2 can be a negative edge: True\n",
            "Edge 3 can be a negative edge: False\n",
            "Edge 4 can be a negative edge: False\n",
            "Edge 5 can be a negative edge: True\n"
          ]
        }
      ]
    },
    {
      "cell_type": "markdown",
      "metadata": {
        "id": "Wk9Q-a-9qGsw"
      },
      "source": [
        "# 3 Node Emebedding Learning\n",
        "\n",
        "Finally, we will finish the first learning algorithm on graphs: a node embedding model.\n"
      ]
    },
    {
      "cell_type": "markdown",
      "metadata": {
        "id": "NDBxRQcZ_dUH"
      },
      "source": [
        "## Setup"
      ]
    },
    {
      "cell_type": "code",
      "metadata": {
        "id": "Lnqn9H6s_ehX",
        "colab": {
          "base_uri": "https://localhost:8080/"
        },
        "outputId": "4039e835-4ab8-433c-de99-d2402f7c7f5e"
      },
      "source": [
        "import torch\n",
        "import torch.nn as nn\n",
        "import matplotlib.pyplot as plt\n",
        "from sklearn.decomposition import PCA\n",
        "\n",
        "print(torch.__version__)"
      ],
      "execution_count": 15,
      "outputs": [
        {
          "output_type": "stream",
          "name": "stdout",
          "text": [
            "2.8.0+cu126\n"
          ]
        }
      ]
    },
    {
      "cell_type": "markdown",
      "metadata": {
        "id": "6gomAf8vxq0R"
      },
      "source": [
        "To write our own node embedding learning methods, we'll heavily use the [`nn.Embedding`](https://pytorch.org/docs/stable/generated/torch.nn.Embedding.html) module in PyTorch. Let's see how to use `nn.Embedding`:"
      ]
    },
    {
      "cell_type": "code",
      "metadata": {
        "id": "aRiWGuLAx5yx",
        "colab": {
          "base_uri": "https://localhost:8080/"
        },
        "outputId": "0c567e15-7ab6-4e1c-e801-3a11f5c723ce"
      },
      "source": [
        "# Initialize an embedding layer\n",
        "# Suppose we want to have embedding for 4 items (e.g., nodes)\n",
        "# Each item is represented with 8 dimensional vector\n",
        "\n",
        "emb_sample = nn.Embedding(num_embeddings=4, embedding_dim=8)\n",
        "print('Sample embedding layer: {}'.format(emb_sample))\n"
      ],
      "execution_count": 17,
      "outputs": [
        {
          "output_type": "stream",
          "name": "stdout",
          "text": [
            "Sample embedding layer: Embedding(4, 8)\n",
            "Embedding(4, 8)\n"
          ]
        }
      ]
    },
    {
      "cell_type": "markdown",
      "metadata": {
        "id": "bS9qQfeujEVh"
      },
      "source": [
        "We can select items from the embedding matrix, by using Tensor indices"
      ]
    },
    {
      "cell_type": "code",
      "metadata": {
        "id": "9AGIfP4QEDr8",
        "colab": {
          "base_uri": "https://localhost:8080/"
        },
        "outputId": "3b95d06b-2999-459d-8c20-e6b5cc83328c"
      },
      "source": [
        "# Select an embedding in emb_sample\n",
        "id = torch.LongTensor([1])\n",
        "print(emb_sample(id))\n",
        "\n",
        "# Select multiple embeddings\n",
        "ids = torch.LongTensor([1, 3])\n",
        "print(emb_sample(ids))\n",
        "\n",
        "# Get the shape of the embedding weight matrix\n",
        "shape = emb_sample.weight.data.shape\n",
        "print(shape)\n",
        "\n",
        "# Overwrite the weight to tensor with all ones\n",
        "emb_sample.weight.data = torch.ones(shape)\n",
        "\n",
        "# Let's check if the emb is indeed initilized\n",
        "ids = torch.LongTensor([0, 3])\n",
        "print(emb_sample(ids))"
      ],
      "execution_count": 18,
      "outputs": [
        {
          "output_type": "stream",
          "name": "stdout",
          "text": [
            "tensor([[ 0.3284,  1.7108,  0.0574,  0.1679, -1.0277, -1.3693, -2.1074, -0.1171]],\n",
            "       grad_fn=<EmbeddingBackward0>)\n",
            "tensor([[ 0.3284,  1.7108,  0.0574,  0.1679, -1.0277, -1.3693, -2.1074, -0.1171],\n",
            "        [ 1.7521,  0.8028, -0.7926,  0.3840,  1.0818, -0.6872,  0.2783, -1.0150]],\n",
            "       grad_fn=<EmbeddingBackward0>)\n",
            "torch.Size([4, 8])\n",
            "tensor([[1., 1., 1., 1., 1., 1., 1., 1.],\n",
            "        [1., 1., 1., 1., 1., 1., 1., 1.]], grad_fn=<EmbeddingBackward0>)\n"
          ]
        }
      ]
    },
    {
      "cell_type": "markdown",
      "metadata": {
        "id": "8MjBuDKaKIsM"
      },
      "source": [
        "Now, it's your time to create node embedding matrix for the graph we have!\n",
        "- We want to have **16 dimensional** vector for each node in the karate club network.\n",
        "- We want to initalize the matrix under **uniform distribution**, in the range of $[0, 1)$. We suggest you using [`torch.rand`](https://pytorch.org/docs/stable/generated/torch.rand.html)."
      ]
    },
    {
      "cell_type": "code",
      "metadata": {
        "id": "hMszSwRPKGn1",
        "colab": {
          "base_uri": "https://localhost:8080/"
        },
        "outputId": "dfa4a87f-10db-47d3-a5d4-6207845f2059"
      },
      "source": [
        "# Please do not change / reset the random seed\n",
        "torch.manual_seed(1)\n",
        "\n",
        "def create_node_emb(num_node=34, embedding_dim=16):\n",
        "  # TODO: Implement this function that will create the node embedding matrix.\n",
        "  # A torch.nn.Embedding layer will be returned. You do not need to change\n",
        "  # the values of num_node and embedding_dim. The weight matrix of returned\n",
        "  # layer should be initialized under uniform distribution.\n",
        "\n",
        "  emb = None\n",
        "\n",
        "  emb = nn.Embedding(num_node, embedding_dim)\n",
        "\n",
        "  a = (1.0 / embedding_dim) ** 0.5\n",
        "\n",
        "    # torch.rand() → [0,1), rescale to [-a, a]\n",
        "  emb.weight.data = torch.rand(num_node, embedding_dim) * (2 * a) - a\n",
        "\n",
        "  ############# Your code here ############\n",
        "\n",
        "  #########################################\n",
        "\n",
        "  return emb\n",
        "\n",
        "\n",
        "emb = create_node_emb()\n",
        "ids = torch.LongTensor([0, 3])\n",
        "\n",
        "# Print the embedding layer\n",
        "print(\"Embedding: {}\".format(emb))\n",
        "\n",
        "# An example that gets the embeddings for node 0 and 3\n",
        "print(emb(ids))"
      ],
      "execution_count": 26,
      "outputs": [
        {
          "output_type": "stream",
          "name": "stdout",
          "text": [
            "Embedding: Embedding(34, 16)\n",
            "tensor([[-0.1443,  0.1167, -0.1783,  0.2323, -0.1033,  0.1476,  0.0085, -0.1099,\n",
            "          0.1669, -0.1908, -0.1323,  0.0300,  0.1983, -0.1071, -0.1522, -0.1596],\n",
            "        [ 0.1243,  0.0773, -0.0579,  0.2410,  0.0506, -0.0645, -0.0036,  0.2458,\n",
            "          0.1679, -0.0185,  0.2451,  0.1098, -0.1331, -0.2275,  0.1453,  0.2345]],\n",
            "       grad_fn=<EmbeddingBackward0>)\n"
          ]
        }
      ]
    },
    {
      "cell_type": "markdown",
      "metadata": {
        "id": "4QfoANibTzyh"
      },
      "source": [
        "## Visualize the initial node embeddings\n",
        "One good way to understand an embedding matrix, is to visualize it in a 2D space.\n",
        "Here, we have implemented an embedding visualization function for you.\n",
        "We first do PCA to reduce the dimensionality of embeddings to a 2D space.\n",
        "Then we visualize each point, colored by the community it belongs to."
      ]
    },
    {
      "cell_type": "code",
      "metadata": {
        "id": "_LCoIkarhfYD",
        "colab": {
          "base_uri": "https://localhost:8080/",
          "height": 522
        },
        "outputId": "3f58892e-fb1d-44f8-a7bc-1310b3d0519a"
      },
      "source": [
        "def visualize_emb(emb):\n",
        "  X = emb.weight.data.numpy()\n",
        "  pca = PCA(n_components=2)\n",
        "  components = pca.fit_transform(X)\n",
        "  plt.figure(figsize=(6, 6))\n",
        "  club1_x = []\n",
        "  club1_y = []\n",
        "  club2_x = []\n",
        "  club2_y = []\n",
        "  for node in G.nodes(data=True):\n",
        "    if node[1]['club'] == 'Mr. Hi':\n",
        "      club1_x.append(components[node[0]][0])\n",
        "      club1_y.append(components[node[0]][1])\n",
        "    else:\n",
        "      club2_x.append(components[node[0]][0])\n",
        "      club2_y.append(components[node[0]][1])\n",
        "  plt.scatter(club1_x, club1_y, color=\"red\", label=\"Mr. Hi\")\n",
        "  plt.scatter(club2_x, club2_y, color=\"blue\", label=\"Officer\")\n",
        "  plt.legend()\n",
        "  plt.show()\n",
        "\n",
        "# Visualize the initial random embeddding\n",
        "visualize_emb(emb)"
      ],
      "execution_count": 27,
      "outputs": [
        {
          "output_type": "display_data",
          "data": {
            "text/plain": [
              "<Figure size 600x600 with 1 Axes>"
            ],
            "image/png": "[encoded data removed]"
          },
          "metadata": {}
        }
      ]
    },
    {
      "cell_type": "markdown",
      "metadata": {
        "id": "bQIyuEz9ANb2"
      },
      "source": [
        "## Question 7: Training the embedding! What is the best performance you can get? (20 Points)\n",
        "\n",
        "We want to optimize our embeddings for the task of classifying edges as positive or negative. Given an edge and the embeddings for each node, the dot product of the embeddings, followed by a sigmoid, should give us the likelihood of that edge being either positive (output of sigmoid > 0.5) or negative (output of sigmoid < 0.5).\n",
        "\n",
        "Note that we're using the functions you wrote in the previous questions, _as well as the variables initialized in previous cells_. If you're running into issues, make sure your answers to questions 1-6 are correct."
      ]
    },
    {
      "cell_type": "code",
      "metadata": {
        "id": "RDeQTNNxqH0j",
        "colab": {
          "base_uri": "https://localhost:8080/"
        },
        "outputId": "b67315c2-3904-4e14-839f-437cf727ca74"
      },
      "source": [
        "from torch.optim import SGD\n",
        "import torch\n",
        "import torch.nn as nn\n",
        "\n",
        "def accuracy(pred, label):\n",
        "    \"\"\"\n",
        "    pred: probabilities in [0,1] (after sigmoid), shape [E]\n",
        "    label: ground-truth 0/1 (LongTensor or FloatTensor), shape [E]\n",
        "    returns: accuracy rounded to 4 decimals\n",
        "    \"\"\"\n",
        "    pred_label = (pred > 0.5).long()\n",
        "    label = label.long()\n",
        "    acc = (pred_label == label).float().mean().item()\n",
        "    return round(acc, 4)\n",
        "\n",
        "def train(emb, loss_fn, train_label, train_edge):\n",
        "    \"\"\"\n",
        "    Train a dot-product link predictor over an embedding table.\n",
        "    Steps:\n",
        "      (1) Lookup embeddings for endpoints in train_edge\n",
        "      (2) Dot product per edge -> logits\n",
        "      (3) Sigmoid -> probabilities\n",
        "      (4) Compute BCELoss(probs, labels)\n",
        "      (5) Print loss & accuracy\n",
        "      (6) Backprop + SGD update\n",
        "    \"\"\"\n",
        "    epochs = 500\n",
        "    learning_rate = 0.1\n",
        "    optimizer = SGD(emb.parameters(), lr=learning_rate, momentum=0.9)\n",
        "\n",
        "    emb.train()\n",
        "    for i in range(epochs):\n",
        "        optimizer.zero_grad()\n",
        "\n",
        "        # (1) Node embeddings for each side of the edge\n",
        "        src, dst = train_edge[0], train_edge[1]     # [E]\n",
        "        z_src = emb(src)                            # [E, d]\n",
        "        z_dst = emb(dst)                            # [E, d]\n",
        "\n",
        "        # (2) Dot product per edge -> logits\n",
        "        logits = (z_src * z_dst).sum(dim=1)         # [E]\n",
        "\n",
        "        # (3) Sigmoid -> probabilities\n",
        "        probs = torch.sigmoid(logits)               # [E]\n",
        "\n",
        "        # (4) Loss (BCELoss expects probabilities, not logits)\n",
        "        loss = loss_fn(probs, train_label.float())\n",
        "\n",
        "        # (5) Accuracy\n",
        "        acc = accuracy(probs.detach(), train_label)\n",
        "\n",
        "        # (6) Update\n",
        "        loss.backward()\n",
        "        optimizer.step()\n",
        "\n",
        "        print(f\"Epoch {i+1:03d} | Loss: {loss.item():.4f} | Acc: {acc:.4f}\")\n",
        "\n",
        "    return emb\n",
        "\n",
        "# --- driver code (unchanged) ---\n",
        "loss_fn = nn.BCELoss()\n",
        "\n",
        "print(pos_edge_index.shape)\n",
        "\n",
        "# Generate the positive and negative labels\n",
        "pos_label = torch.ones(pos_edge_index.shape[1])\n",
        "neg_label = torch.zeros(neg_edge_index.shape[1])\n",
        "\n",
        "# Concat positive and negative labels into one tensor\n",
        "train_label = torch.cat([pos_label, neg_label], dim=0)\n",
        "\n",
        "# Concat positive and negative edges into one tensor\n",
        "# Since the network is very small, we do not split the edges into val/test sets\n",
        "train_edge = torch.cat([pos_edge_index, neg_edge_index], dim=1)\n",
        "print(train_edge.shape)\n",
        "\n",
        "train(emb, loss_fn, train_label, train_edge)\n"
      ],
      "execution_count": 29,
      "outputs": [
        {
          "output_type": "stream",
          "name": "stdout",
          "text": [
            "torch.Size([2, 78])\n",
            "torch.Size([2, 156])\n",
            "Epoch 001 | Loss: 0.0245 | Acc: 1.0000\n",
            "Epoch 002 | Loss: 0.0245 | Acc: 1.0000\n",
            "Epoch 003 | Loss: 0.0245 | Acc: 1.0000\n",
            "Epoch 004 | Loss: 0.0244 | Acc: 1.0000\n",
            "Epoch 005 | Loss: 0.0244 | Acc: 1.0000\n",
            "Epoch 006 | Loss: 0.0244 | Acc: 1.0000\n",
            "Epoch 007 | Loss: 0.0243 | Acc: 1.0000\n",
            "Epoch 008 | Loss: 0.0243 | Acc: 1.0000\n",
            "Epoch 009 | Loss: 0.0242 | Acc: 1.0000\n",
            "Epoch 010 | Loss: 0.0241 | Acc: 1.0000\n",
            "Epoch 011 | Loss: 0.0241 | Acc: 1.0000\n",
            "Epoch 012 | Loss: 0.0240 | Acc: 1.0000\n",
            "Epoch 013 | Loss: 0.0240 | Acc: 1.0000\n",
            "Epoch 014 | Loss: 0.0239 | Acc: 1.0000\n",
            "Epoch 015 | Loss: 0.0238 | Acc: 1.0000\n",
            "Epoch 016 | Loss: 0.0237 | Acc: 1.0000\n",
            "Epoch 017 | Loss: 0.0237 | Acc: 1.0000\n",
            "Epoch 018 | Loss: 0.0236 | Acc: 1.0000\n",
            "Epoch 019 | Loss: 0.0235 | Acc: 1.0000\n",
            "Epoch 020 | Loss: 0.0234 | Acc: 1.0000\n",
            "Epoch 021 | Loss: 0.0233 | Acc: 1.0000\n",
            "Epoch 022 | Loss: 0.0233 | Acc: 1.0000\n",
            "Epoch 023 | Loss: 0.0232 | Acc: 1.0000\n",
            "Epoch 024 | Loss: 0.0231 | Acc: 1.0000\n",
            "Epoch 025 | Loss: 0.0230 | Acc: 1.0000\n",
            "Epoch 026 | Loss: 0.0229 | Acc: 1.0000\n",
            "Epoch 027 | Loss: 0.0228 | Acc: 1.0000\n",
            "Epoch 028 | Loss: 0.0228 | Acc: 1.0000\n",
            "Epoch 029 | Loss: 0.0227 | Acc: 1.0000\n",
            "Epoch 030 | Loss: 0.0226 | Acc: 1.0000\n",
            "Epoch 031 | Loss: 0.0225 | Acc: 1.0000\n",
            "Epoch 032 | Loss: 0.0224 | Acc: 1.0000\n",
            "Epoch 033 | Loss: 0.0223 | Acc: 1.0000\n",
            "Epoch 034 | Loss: 0.0222 | Acc: 1.0000\n",
            "Epoch 035 | Loss: 0.0222 | Acc: 1.0000\n",
            "Epoch 036 | Loss: 0.0221 | Acc: 1.0000\n",
            "Epoch 037 | Loss: 0.0220 | Acc: 1.0000\n",
            "Epoch 038 | Loss: 0.0219 | Acc: 1.0000\n",
            "Epoch 039 | Loss: 0.0218 | Acc: 1.0000\n",
            "Epoch 040 | Loss: 0.0218 | Acc: 1.0000\n",
            "Epoch 041 | Loss: 0.0217 | Acc: 1.0000\n",
            "Epoch 042 | Loss: 0.0216 | Acc: 1.0000\n",
            "Epoch 043 | Loss: 0.0215 | Acc: 1.0000\n",
            "Epoch 044 | Loss: 0.0214 | Acc: 1.0000\n",
            "Epoch 045 | Loss: 0.0214 | Acc: 1.0000\n",
            "Epoch 046 | Loss: 0.0213 | Acc: 1.0000\n",
            "Epoch 047 | Loss: 0.0212 | Acc: 1.0000\n",
            "Epoch 048 | Loss: 0.0211 | Acc: 1.0000\n",
            "Epoch 049 | Loss: 0.0210 | Acc: 1.0000\n",
            "Epoch 050 | Loss: 0.0210 | Acc: 1.0000\n",
            "Epoch 051 | Loss: 0.0209 | Acc: 1.0000\n",
            "Epoch 052 | Loss: 0.0208 | Acc: 1.0000\n",
            "Epoch 053 | Loss: 0.0207 | Acc: 1.0000\n",
            "Epoch 054 | Loss: 0.0207 | Acc: 1.0000\n",
            "Epoch 055 | Loss: 0.0206 | Acc: 1.0000\n",
            "Epoch 056 | Loss: 0.0205 | Acc: 1.0000\n",
            "Epoch 057 | Loss: 0.0204 | Acc: 1.0000\n",
            "Epoch 058 | Loss: 0.0204 | Acc: 1.0000\n",
            "Epoch 059 | Loss: 0.0203 | Acc: 1.0000\n",
            "Epoch 060 | Loss: 0.0202 | Acc: 1.0000\n",
            "Epoch 061 | Loss: 0.0201 | Acc: 1.0000\n",
            "Epoch 062 | Loss: 0.0201 | Acc: 1.0000\n",
            "Epoch 063 | Loss: 0.0200 | Acc: 1.0000\n",
            "Epoch 064 | Loss: 0.0199 | Acc: 1.0000\n",
            "Epoch 065 | Loss: 0.0198 | Acc: 1.0000\n",
            "Epoch 066 | Loss: 0.0198 | Acc: 1.0000\n",
            "Epoch 067 | Loss: 0.0197 | Acc: 1.0000\n",
            "Epoch 068 | Loss: 0.0196 | Acc: 1.0000\n",
            "Epoch 069 | Loss: 0.0196 | Acc: 1.0000\n",
            "Epoch 070 | Loss: 0.0195 | Acc: 1.0000\n",
            "Epoch 071 | Loss: 0.0194 | Acc: 1.0000\n",
            "Epoch 072 | Loss: 0.0194 | Acc: 1.0000\n",
            "Epoch 073 | Loss: 0.0193 | Acc: 1.0000\n",
            "Epoch 074 | Loss: 0.0192 | Acc: 1.0000\n",
            "Epoch 075 | Loss: 0.0192 | Acc: 1.0000\n",
            "Epoch 076 | Loss: 0.0191 | Acc: 1.0000\n",
            "Epoch 077 | Loss: 0.0190 | Acc: 1.0000\n",
            "Epoch 078 | Loss: 0.0190 | Acc: 1.0000\n",
            "Epoch 079 | Loss: 0.0189 | Acc: 1.0000\n",
            "Epoch 080 | Loss: 0.0188 | Acc: 1.0000\n",
            "Epoch 081 | Loss: 0.0188 | Acc: 1.0000\n",
            "Epoch 082 | Loss: 0.0187 | Acc: 1.0000\n",
            "Epoch 083 | Loss: 0.0186 | Acc: 1.0000\n",
            "Epoch 084 | Loss: 0.0186 | Acc: 1.0000\n",
            "Epoch 085 | Loss: 0.0185 | Acc: 1.0000\n",
            "Epoch 086 | Loss: 0.0184 | Acc: 1.0000\n",
            "Epoch 087 | Loss: 0.0184 | Acc: 1.0000\n",
            "Epoch 088 | Loss: 0.0183 | Acc: 1.0000\n",
            "Epoch 089 | Loss: 0.0183 | Acc: 1.0000\n",
            "Epoch 090 | Loss: 0.0182 | Acc: 1.0000\n",
            "Epoch 091 | Loss: 0.0181 | Acc: 1.0000\n",
            "Epoch 092 | Loss: 0.0181 | Acc: 1.0000\n",
            "Epoch 093 | Loss: 0.0180 | Acc: 1.0000\n",
            "Epoch 094 | Loss: 0.0180 | Acc: 1.0000\n",
            "Epoch 095 | Loss: 0.0179 | Acc: 1.0000\n",
            "Epoch 096 | Loss: 0.0178 | Acc: 1.0000\n",
            "Epoch 097 | Loss: 0.0178 | Acc: 1.0000\n",
            "Epoch 098 | Loss: 0.0177 | Acc: 1.0000\n",
            "Epoch 099 | Loss: 0.0177 | Acc: 1.0000\n",
            "Epoch 100 | Loss: 0.0176 | Acc: 1.0000\n",
            "Epoch 101 | Loss: 0.0175 | Acc: 1.0000\n",
            "Epoch 102 | Loss: 0.0175 | Acc: 1.0000\n",
            "Epoch 103 | Loss: 0.0174 | Acc: 1.0000\n",
            "Epoch 104 | Loss: 0.0174 | Acc: 1.0000\n",
            "Epoch 105 | Loss: 0.0173 | Acc: 1.0000\n",
            "Epoch 106 | Loss: 0.0173 | Acc: 1.0000\n",
            "Epoch 107 | Loss: 0.0172 | Acc: 1.0000\n",
            "Epoch 108 | Loss: 0.0172 | Acc: 1.0000\n",
            "Epoch 109 | Loss: 0.0171 | Acc: 1.0000\n",
            "Epoch 110 | Loss: 0.0170 | Acc: 1.0000\n",
            "Epoch 111 | Loss: 0.0170 | Acc: 1.0000\n",
            "Epoch 112 | Loss: 0.0169 | Acc: 1.0000\n",
            "Epoch 113 | Loss: 0.0169 | Acc: 1.0000\n",
            "Epoch 114 | Loss: 0.0168 | Acc: 1.0000\n",
            "Epoch 115 | Loss: 0.0168 | Acc: 1.0000\n",
            "Epoch 116 | Loss: 0.0167 | Acc: 1.0000\n",
            "Epoch 117 | Loss: 0.0167 | Acc: 1.0000\n",
            "Epoch 118 | Loss: 0.0166 | Acc: 1.0000\n",
            "Epoch 119 | Loss: 0.0166 | Acc: 1.0000\n",
            "Epoch 120 | Loss: 0.0165 | Acc: 1.0000\n",
            "Epoch 121 | Loss: 0.0165 | Acc: 1.0000\n",
            "Epoch 122 | Loss: 0.0164 | Acc: 1.0000\n",
            "Epoch 123 | Loss: 0.0164 | Acc: 1.0000\n",
            "Epoch 124 | Loss: 0.0163 | Acc: 1.0000\n",
            "Epoch 125 | Loss: 0.0163 | Acc: 1.0000\n",
            "Epoch 126 | Loss: 0.0162 | Acc: 1.0000\n",
            "Epoch 127 | Loss: 0.0162 | Acc: 1.0000\n",
            "Epoch 128 | Loss: 0.0161 | Acc: 1.0000\n",
            "Epoch 129 | Loss: 0.0161 | Acc: 1.0000\n",
            "Epoch 130 | Loss: 0.0160 | Acc: 1.0000\n",
            "Epoch 131 | Loss: 0.0160 | Acc: 1.0000\n",
            "Epoch 132 | Loss: 0.0159 | Acc: 1.0000\n",
            "Epoch 133 | Loss: 0.0159 | Acc: 1.0000\n",
            "Epoch 134 | Loss: 0.0158 | Acc: 1.0000\n",
            "Epoch 135 | Loss: 0.0158 | Acc: 1.0000\n",
            "Epoch 136 | Loss: 0.0157 | Acc: 1.0000\n",
            "Epoch 137 | Loss: 0.0157 | Acc: 1.0000\n",
            "Epoch 138 | Loss: 0.0156 | Acc: 1.0000\n",
            "Epoch 139 | Loss: 0.0156 | Acc: 1.0000\n",
            "Epoch 140 | Loss: 0.0155 | Acc: 1.0000\n",
            "Epoch 141 | Loss: 0.0155 | Acc: 1.0000\n",
            "Epoch 142 | Loss: 0.0154 | Acc: 1.0000\n",
            "Epoch 143 | Loss: 0.0154 | Acc: 1.0000\n",
            "Epoch 144 | Loss: 0.0153 | Acc: 1.0000\n",
            "Epoch 145 | Loss: 0.0153 | Acc: 1.0000\n",
            "Epoch 146 | Loss: 0.0153 | Acc: 1.0000\n",
            "Epoch 147 | Loss: 0.0152 | Acc: 1.0000\n",
            "Epoch 148 | Loss: 0.0152 | Acc: 1.0000\n",
            "Epoch 149 | Loss: 0.0151 | Acc: 1.0000\n",
            "Epoch 150 | Loss: 0.0151 | Acc: 1.0000\n",
            "Epoch 151 | Loss: 0.0150 | Acc: 1.0000\n",
            "Epoch 152 | Loss: 0.0150 | Acc: 1.0000\n",
            "Epoch 153 | Loss: 0.0149 | Acc: 1.0000\n",
            "Epoch 154 | Loss: 0.0149 | Acc: 1.0000\n",
            "Epoch 155 | Loss: 0.0149 | Acc: 1.0000\n",
            "Epoch 156 | Loss: 0.0148 | Acc: 1.0000\n",
            "Epoch 157 | Loss: 0.0148 | Acc: 1.0000\n",
            "Epoch 158 | Loss: 0.0147 | Acc: 1.0000\n",
            "Epoch 159 | Loss: 0.0147 | Acc: 1.0000\n",
            "Epoch 160 | Loss: 0.0146 | Acc: 1.0000\n",
            "Epoch 161 | Loss: 0.0146 | Acc: 1.0000\n",
            "Epoch 162 | Loss: 0.0146 | Acc: 1.0000\n",
            "Epoch 163 | Loss: 0.0145 | Acc: 1.0000\n",
            "Epoch 164 | Loss: 0.0145 | Acc: 1.0000\n",
            "Epoch 165 | Loss: 0.0144 | Acc: 1.0000\n",
            "Epoch 166 | Loss: 0.0144 | Acc: 1.0000\n",
            "Epoch 167 | Loss: 0.0144 | Acc: 1.0000\n",
            "Epoch 168 | Loss: 0.0143 | Acc: 1.0000\n",
            "Epoch 169 | Loss: 0.0143 | Acc: 1.0000\n",
            "Epoch 170 | Loss: 0.0142 | Acc: 1.0000\n",
            "Epoch 171 | Loss: 0.0142 | Acc: 1.0000\n",
            "Epoch 172 | Loss: 0.0142 | Acc: 1.0000\n",
            "Epoch 173 | Loss: 0.0141 | Acc: 1.0000\n",
            "Epoch 174 | Loss: 0.0141 | Acc: 1.0000\n",
            "Epoch 175 | Loss: 0.0140 | Acc: 1.0000\n",
            "Epoch 176 | Loss: 0.0140 | Acc: 1.0000\n",
            "Epoch 177 | Loss: 0.0140 | Acc: 1.0000\n",
            "Epoch 178 | Loss: 0.0139 | Acc: 1.0000\n",
            "Epoch 179 | Loss: 0.0139 | Acc: 1.0000\n",
            "Epoch 180 | Loss: 0.0139 | Acc: 1.0000\n",
            "Epoch 181 | Loss: 0.0138 | Acc: 1.0000\n",
            "Epoch 182 | Loss: 0.0138 | Acc: 1.0000\n",
            "Epoch 183 | Loss: 0.0137 | Acc: 1.0000\n",
            "Epoch 184 | Loss: 0.0137 | Acc: 1.0000\n",
            "Epoch 185 | Loss: 0.0137 | Acc: 1.0000\n",
            "Epoch 186 | Loss: 0.0136 | Acc: 1.0000\n",
            "Epoch 187 | Loss: 0.0136 | Acc: 1.0000\n",
            "Epoch 188 | Loss: 0.0136 | Acc: 1.0000\n",
            "Epoch 189 | Loss: 0.0135 | Acc: 1.0000\n",
            "Epoch 190 | Loss: 0.0135 | Acc: 1.0000\n",
            "Epoch 191 | Loss: 0.0134 | Acc: 1.0000\n",
            "Epoch 192 | Loss: 0.0134 | Acc: 1.0000\n",
            "Epoch 193 | Loss: 0.0134 | Acc: 1.0000\n",
            "Epoch 194 | Loss: 0.0133 | Acc: 1.0000\n",
            "Epoch 195 | Loss: 0.0133 | Acc: 1.0000\n",
            "Epoch 196 | Loss: 0.0133 | Acc: 1.0000\n",
            "Epoch 197 | Loss: 0.0132 | Acc: 1.0000\n",
            "Epoch 198 | Loss: 0.0132 | Acc: 1.0000\n",
            "Epoch 199 | Loss: 0.0132 | Acc: 1.0000\n",
            "Epoch 200 | Loss: 0.0131 | Acc: 1.0000\n",
            "Epoch 201 | Loss: 0.0131 | Acc: 1.0000\n",
            "Epoch 202 | Loss: 0.0131 | Acc: 1.0000\n",
            "Epoch 203 | Loss: 0.0130 | Acc: 1.0000\n",
            "Epoch 204 | Loss: 0.0130 | Acc: 1.0000\n",
            "Epoch 205 | Loss: 0.0130 | Acc: 1.0000\n",
            "Epoch 206 | Loss: 0.0129 | Acc: 1.0000\n",
            "Epoch 207 | Loss: 0.0129 | Acc: 1.0000\n",
            "Epoch 208 | Loss: 0.0129 | Acc: 1.0000\n",
            "Epoch 209 | Loss: 0.0128 | Acc: 1.0000\n",
            "Epoch 210 | Loss: 0.0128 | Acc: 1.0000\n",
            "Epoch 211 | Loss: 0.0128 | Acc: 1.0000\n",
            "Epoch 212 | Loss: 0.0127 | Acc: 1.0000\n",
            "Epoch 213 | Loss: 0.0127 | Acc: 1.0000\n",
            "Epoch 214 | Loss: 0.0127 | Acc: 1.0000\n",
            "Epoch 215 | Loss: 0.0126 | Acc: 1.0000\n",
            "Epoch 216 | Loss: 0.0126 | Acc: 1.0000\n",
            "Epoch 217 | Loss: 0.0126 | Acc: 1.0000\n",
            "Epoch 218 | Loss: 0.0125 | Acc: 1.0000\n",
            "Epoch 219 | Loss: 0.0125 | Acc: 1.0000\n",
            "Epoch 220 | Loss: 0.0125 | Acc: 1.0000\n",
            "Epoch 221 | Loss: 0.0124 | Acc: 1.0000\n",
            "Epoch 222 | Loss: 0.0124 | Acc: 1.0000\n",
            "Epoch 223 | Loss: 0.0124 | Acc: 1.0000\n",
            "Epoch 224 | Loss: 0.0123 | Acc: 1.0000\n",
            "Epoch 225 | Loss: 0.0123 | Acc: 1.0000\n",
            "Epoch 226 | Loss: 0.0123 | Acc: 1.0000\n",
            "Epoch 227 | Loss: 0.0122 | Acc: 1.0000\n",
            "Epoch 228 | Loss: 0.0122 | Acc: 1.0000\n",
            "Epoch 229 | Loss: 0.0122 | Acc: 1.0000\n",
            "Epoch 230 | Loss: 0.0122 | Acc: 1.0000\n",
            "Epoch 231 | Loss: 0.0121 | Acc: 1.0000\n",
            "Epoch 232 | Loss: 0.0121 | Acc: 1.0000\n",
            "Epoch 233 | Loss: 0.0121 | Acc: 1.0000\n",
            "Epoch 234 | Loss: 0.0120 | Acc: 1.0000\n",
            "Epoch 235 | Loss: 0.0120 | Acc: 1.0000\n",
            "Epoch 236 | Loss: 0.0120 | Acc: 1.0000\n",
            "Epoch 237 | Loss: 0.0119 | Acc: 1.0000\n",
            "Epoch 238 | Loss: 0.0119 | Acc: 1.0000\n",
            "Epoch 239 | Loss: 0.0119 | Acc: 1.0000\n",
            "Epoch 240 | Loss: 0.0119 | Acc: 1.0000\n",
            "Epoch 241 | Loss: 0.0118 | Acc: 1.0000\n",
            "Epoch 242 | Loss: 0.0118 | Acc: 1.0000\n",
            "Epoch 243 | Loss: 0.0118 | Acc: 1.0000\n",
            "Epoch 244 | Loss: 0.0117 | Acc: 1.0000\n",
            "Epoch 245 | Loss: 0.0117 | Acc: 1.0000\n",
            "Epoch 246 | Loss: 0.0117 | Acc: 1.0000\n",
            "Epoch 247 | Loss: 0.0117 | Acc: 1.0000\n",
            "Epoch 248 | Loss: 0.0116 | Acc: 1.0000\n",
            "Epoch 249 | Loss: 0.0116 | Acc: 1.0000\n",
            "Epoch 250 | Loss: 0.0116 | Acc: 1.0000\n",
            "Epoch 251 | Loss: 0.0116 | Acc: 1.0000\n",
            "Epoch 252 | Loss: 0.0115 | Acc: 1.0000\n",
            "Epoch 253 | Loss: 0.0115 | Acc: 1.0000\n",
            "Epoch 254 | Loss: 0.0115 | Acc: 1.0000\n",
            "Epoch 255 | Loss: 0.0114 | Acc: 1.0000\n",
            "Epoch 256 | Loss: 0.0114 | Acc: 1.0000\n",
            "Epoch 257 | Loss: 0.0114 | Acc: 1.0000\n",
            "Epoch 258 | Loss: 0.0114 | Acc: 1.0000\n",
            "Epoch 259 | Loss: 0.0113 | Acc: 1.0000\n",
            "Epoch 260 | Loss: 0.0113 | Acc: 1.0000\n",
            "Epoch 261 | Loss: 0.0113 | Acc: 1.0000\n",
            "Epoch 262 | Loss: 0.0113 | Acc: 1.0000\n",
            "Epoch 263 | Loss: 0.0112 | Acc: 1.0000\n",
            "Epoch 264 | Loss: 0.0112 | Acc: 1.0000\n",
            "Epoch 265 | Loss: 0.0112 | Acc: 1.0000\n",
            "Epoch 266 | Loss: 0.0112 | Acc: 1.0000\n",
            "Epoch 267 | Loss: 0.0111 | Acc: 1.0000\n",
            "Epoch 268 | Loss: 0.0111 | Acc: 1.0000\n",
            "Epoch 269 | Loss: 0.0111 | Acc: 1.0000\n",
            "Epoch 270 | Loss: 0.0110 | Acc: 1.0000\n",
            "Epoch 271 | Loss: 0.0110 | Acc: 1.0000\n",
            "Epoch 272 | Loss: 0.0110 | Acc: 1.0000\n",
            "Epoch 273 | Loss: 0.0110 | Acc: 1.0000\n",
            "Epoch 274 | Loss: 0.0109 | Acc: 1.0000\n",
            "Epoch 275 | Loss: 0.0109 | Acc: 1.0000\n",
            "Epoch 276 | Loss: 0.0109 | Acc: 1.0000\n",
            "Epoch 277 | Loss: 0.0109 | Acc: 1.0000\n",
            "Epoch 278 | Loss: 0.0108 | Acc: 1.0000\n",
            "Epoch 279 | Loss: 0.0108 | Acc: 1.0000\n",
            "Epoch 280 | Loss: 0.0108 | Acc: 1.0000\n",
            "Epoch 281 | Loss: 0.0108 | Acc: 1.0000\n",
            "Epoch 282 | Loss: 0.0107 | Acc: 1.0000\n",
            "Epoch 283 | Loss: 0.0107 | Acc: 1.0000\n",
            "Epoch 284 | Loss: 0.0107 | Acc: 1.0000\n",
            "Epoch 285 | Loss: 0.0107 | Acc: 1.0000\n",
            "Epoch 286 | Loss: 0.0107 | Acc: 1.0000\n",
            "Epoch 287 | Loss: 0.0106 | Acc: 1.0000\n",
            "Epoch 288 | Loss: 0.0106 | Acc: 1.0000\n",
            "Epoch 289 | Loss: 0.0106 | Acc: 1.0000\n",
            "Epoch 290 | Loss: 0.0106 | Acc: 1.0000\n",
            "Epoch 291 | Loss: 0.0105 | Acc: 1.0000\n",
            "Epoch 292 | Loss: 0.0105 | Acc: 1.0000\n",
            "Epoch 293 | Loss: 0.0105 | Acc: 1.0000\n",
            "Epoch 294 | Loss: 0.0105 | Acc: 1.0000\n",
            "Epoch 295 | Loss: 0.0104 | Acc: 1.0000\n",
            "Epoch 296 | Loss: 0.0104 | Acc: 1.0000\n",
            "Epoch 297 | Loss: 0.0104 | Acc: 1.0000\n",
            "Epoch 298 | Loss: 0.0104 | Acc: 1.0000\n",
            "Epoch 299 | Loss: 0.0103 | Acc: 1.0000\n",
            "Epoch 300 | Loss: 0.0103 | Acc: 1.0000\n",
            "Epoch 301 | Loss: 0.0103 | Acc: 1.0000\n",
            "Epoch 302 | Loss: 0.0103 | Acc: 1.0000\n",
            "Epoch 303 | Loss: 0.0103 | Acc: 1.0000\n",
            "Epoch 304 | Loss: 0.0102 | Acc: 1.0000\n",
            "Epoch 305 | Loss: 0.0102 | Acc: 1.0000\n",
            "Epoch 306 | Loss: 0.0102 | Acc: 1.0000\n",
            "Epoch 307 | Loss: 0.0102 | Acc: 1.0000\n",
            "Epoch 308 | Loss: 0.0101 | Acc: 1.0000\n",
            "Epoch 309 | Loss: 0.0101 | Acc: 1.0000\n",
            "Epoch 310 | Loss: 0.0101 | Acc: 1.0000\n",
            "Epoch 311 | Loss: 0.0101 | Acc: 1.0000\n",
            "Epoch 312 | Loss: 0.0101 | Acc: 1.0000\n",
            "Epoch 313 | Loss: 0.0100 | Acc: 1.0000\n",
            "Epoch 314 | Loss: 0.0100 | Acc: 1.0000\n",
            "Epoch 315 | Loss: 0.0100 | Acc: 1.0000\n",
            "Epoch 316 | Loss: 0.0100 | Acc: 1.0000\n",
            "Epoch 317 | Loss: 0.0100 | Acc: 1.0000\n",
            "Epoch 318 | Loss: 0.0099 | Acc: 1.0000\n",
            "Epoch 319 | Loss: 0.0099 | Acc: 1.0000\n",
            "Epoch 320 | Loss: 0.0099 | Acc: 1.0000\n",
            "Epoch 321 | Loss: 0.0099 | Acc: 1.0000\n",
            "Epoch 322 | Loss: 0.0099 | Acc: 1.0000\n",
            "Epoch 323 | Loss: 0.0098 | Acc: 1.0000\n",
            "Epoch 324 | Loss: 0.0098 | Acc: 1.0000\n",
            "Epoch 325 | Loss: 0.0098 | Acc: 1.0000\n",
            "Epoch 326 | Loss: 0.0098 | Acc: 1.0000\n",
            "Epoch 327 | Loss: 0.0097 | Acc: 1.0000\n",
            "Epoch 328 | Loss: 0.0097 | Acc: 1.0000\n",
            "Epoch 329 | Loss: 0.0097 | Acc: 1.0000\n",
            "Epoch 330 | Loss: 0.0097 | Acc: 1.0000\n",
            "Epoch 331 | Loss: 0.0097 | Acc: 1.0000\n",
            "Epoch 332 | Loss: 0.0096 | Acc: 1.0000\n",
            "Epoch 333 | Loss: 0.0096 | Acc: 1.0000\n",
            "Epoch 334 | Loss: 0.0096 | Acc: 1.0000\n",
            "Epoch 335 | Loss: 0.0096 | Acc: 1.0000\n",
            "Epoch 336 | Loss: 0.0096 | Acc: 1.0000\n",
            "Epoch 337 | Loss: 0.0095 | Acc: 1.0000\n",
            "Epoch 338 | Loss: 0.0095 | Acc: 1.0000\n",
            "Epoch 339 | Loss: 0.0095 | Acc: 1.0000\n",
            "Epoch 340 | Loss: 0.0095 | Acc: 1.0000\n",
            "Epoch 341 | Loss: 0.0095 | Acc: 1.0000\n",
            "Epoch 342 | Loss: 0.0094 | Acc: 1.0000\n",
            "Epoch 343 | Loss: 0.0094 | Acc: 1.0000\n",
            "Epoch 344 | Loss: 0.0094 | Acc: 1.0000\n",
            "Epoch 345 | Loss: 0.0094 | Acc: 1.0000\n",
            "Epoch 346 | Loss: 0.0094 | Acc: 1.0000\n",
            "Epoch 347 | Loss: 0.0094 | Acc: 1.0000\n",
            "Epoch 348 | Loss: 0.0093 | Acc: 1.0000\n",
            "Epoch 349 | Loss: 0.0093 | Acc: 1.0000\n",
            "Epoch 350 | Loss: 0.0093 | Acc: 1.0000\n",
            "Epoch 351 | Loss: 0.0093 | Acc: 1.0000\n",
            "Epoch 352 | Loss: 0.0093 | Acc: 1.0000\n",
            "Epoch 353 | Loss: 0.0092 | Acc: 1.0000\n",
            "Epoch 354 | Loss: 0.0092 | Acc: 1.0000\n",
            "Epoch 355 | Loss: 0.0092 | Acc: 1.0000\n",
            "Epoch 356 | Loss: 0.0092 | Acc: 1.0000\n",
            "Epoch 357 | Loss: 0.0092 | Acc: 1.0000\n",
            "Epoch 358 | Loss: 0.0091 | Acc: 1.0000\n",
            "Epoch 359 | Loss: 0.0091 | Acc: 1.0000\n",
            "Epoch 360 | Loss: 0.0091 | Acc: 1.0000\n",
            "Epoch 361 | Loss: 0.0091 | Acc: 1.0000\n",
            "Epoch 362 | Loss: 0.0091 | Acc: 1.0000\n",
            "Epoch 363 | Loss: 0.0091 | Acc: 1.0000\n",
            "Epoch 364 | Loss: 0.0090 | Acc: 1.0000\n",
            "Epoch 365 | Loss: 0.0090 | Acc: 1.0000\n",
            "Epoch 366 | Loss: 0.0090 | Acc: 1.0000\n",
            "Epoch 367 | Loss: 0.0090 | Acc: 1.0000\n",
            "Epoch 368 | Loss: 0.0090 | Acc: 1.0000\n",
            "Epoch 369 | Loss: 0.0090 | Acc: 1.0000\n",
            "Epoch 370 | Loss: 0.0089 | Acc: 1.0000\n",
            "Epoch 371 | Loss: 0.0089 | Acc: 1.0000\n",
            "Epoch 372 | Loss: 0.0089 | Acc: 1.0000\n",
            "Epoch 373 | Loss: 0.0089 | Acc: 1.0000\n",
            "Epoch 374 | Loss: 0.0089 | Acc: 1.0000\n",
            "Epoch 375 | Loss: 0.0088 | Acc: 1.0000\n",
            "Epoch 376 | Loss: 0.0088 | Acc: 1.0000\n",
            "Epoch 377 | Loss: 0.0088 | Acc: 1.0000\n",
            "Epoch 378 | Loss: 0.0088 | Acc: 1.0000\n",
            "Epoch 379 | Loss: 0.0088 | Acc: 1.0000\n",
            "Epoch 380 | Loss: 0.0088 | Acc: 1.0000\n",
            "Epoch 381 | Loss: 0.0087 | Acc: 1.0000\n",
            "Epoch 382 | Loss: 0.0087 | Acc: 1.0000\n",
            "Epoch 383 | Loss: 0.0087 | Acc: 1.0000\n",
            "Epoch 384 | Loss: 0.0087 | Acc: 1.0000\n",
            "Epoch 385 | Loss: 0.0087 | Acc: 1.0000\n",
            "Epoch 386 | Loss: 0.0087 | Acc: 1.0000\n",
            "Epoch 387 | Loss: 0.0086 | Acc: 1.0000\n",
            "Epoch 388 | Loss: 0.0086 | Acc: 1.0000\n",
            "Epoch 389 | Loss: 0.0086 | Acc: 1.0000\n",
            "Epoch 390 | Loss: 0.0086 | Acc: 1.0000\n",
            "Epoch 391 | Loss: 0.0086 | Acc: 1.0000\n",
            "Epoch 392 | Loss: 0.0086 | Acc: 1.0000\n",
            "Epoch 393 | Loss: 0.0085 | Acc: 1.0000\n",
            "Epoch 394 | Loss: 0.0085 | Acc: 1.0000\n",
            "Epoch 395 | Loss: 0.0085 | Acc: 1.0000\n",
            "Epoch 396 | Loss: 0.0085 | Acc: 1.0000\n",
            "Epoch 397 | Loss: 0.0085 | Acc: 1.0000\n",
            "Epoch 398 | Loss: 0.0085 | Acc: 1.0000\n",
            "Epoch 399 | Loss: 0.0085 | Acc: 1.0000\n",
            "Epoch 400 | Loss: 0.0084 | Acc: 1.0000\n",
            "Epoch 401 | Loss: 0.0084 | Acc: 1.0000\n",
            "Epoch 402 | Loss: 0.0084 | Acc: 1.0000\n",
            "Epoch 403 | Loss: 0.0084 | Acc: 1.0000\n",
            "Epoch 404 | Loss: 0.0084 | Acc: 1.0000\n",
            "Epoch 405 | Loss: 0.0084 | Acc: 1.0000\n",
            "Epoch 406 | Loss: 0.0083 | Acc: 1.0000\n",
            "Epoch 407 | Loss: 0.0083 | Acc: 1.0000\n",
            "Epoch 408 | Loss: 0.0083 | Acc: 1.0000\n",
            "Epoch 409 | Loss: 0.0083 | Acc: 1.0000\n",
            "Epoch 410 | Loss: 0.0083 | Acc: 1.0000\n",
            "Epoch 411 | Loss: 0.0083 | Acc: 1.0000\n",
            "Epoch 412 | Loss: 0.0083 | Acc: 1.0000\n",
            "Epoch 413 | Loss: 0.0082 | Acc: 1.0000\n",
            "Epoch 414 | Loss: 0.0082 | Acc: 1.0000\n",
            "Epoch 415 | Loss: 0.0082 | Acc: 1.0000\n",
            "Epoch 416 | Loss: 0.0082 | Acc: 1.0000\n",
            "Epoch 417 | Loss: 0.0082 | Acc: 1.0000\n",
            "Epoch 418 | Loss: 0.0082 | Acc: 1.0000\n",
            "Epoch 419 | Loss: 0.0081 | Acc: 1.0000\n",
            "Epoch 420 | Loss: 0.0081 | Acc: 1.0000\n",
            "Epoch 421 | Loss: 0.0081 | Acc: 1.0000\n",
            "Epoch 422 | Loss: 0.0081 | Acc: 1.0000\n",
            "Epoch 423 | Loss: 0.0081 | Acc: 1.0000\n",
            "Epoch 424 | Loss: 0.0081 | Acc: 1.0000\n",
            "Epoch 425 | Loss: 0.0081 | Acc: 1.0000\n",
            "Epoch 426 | Loss: 0.0080 | Acc: 1.0000\n",
            "Epoch 427 | Loss: 0.0080 | Acc: 1.0000\n",
            "Epoch 428 | Loss: 0.0080 | Acc: 1.0000\n",
            "Epoch 429 | Loss: 0.0080 | Acc: 1.0000\n",
            "Epoch 430 | Loss: 0.0080 | Acc: 1.0000\n",
            "Epoch 431 | Loss: 0.0080 | Acc: 1.0000\n",
            "Epoch 432 | Loss: 0.0080 | Acc: 1.0000\n",
            "Epoch 433 | Loss: 0.0079 | Acc: 1.0000\n",
            "Epoch 434 | Loss: 0.0079 | Acc: 1.0000\n",
            "Epoch 435 | Loss: 0.0079 | Acc: 1.0000\n",
            "Epoch 436 | Loss: 0.0079 | Acc: 1.0000\n",
            "Epoch 437 | Loss: 0.0079 | Acc: 1.0000\n",
            "Epoch 438 | Loss: 0.0079 | Acc: 1.0000\n",
            "Epoch 439 | Loss: 0.0079 | Acc: 1.0000\n",
            "Epoch 440 | Loss: 0.0078 | Acc: 1.0000\n",
            "Epoch 441 | Loss: 0.0078 | Acc: 1.0000\n",
            "Epoch 442 | Loss: 0.0078 | Acc: 1.0000\n",
            "Epoch 443 | Loss: 0.0078 | Acc: 1.0000\n",
            "Epoch 444 | Loss: 0.0078 | Acc: 1.0000\n",
            "Epoch 445 | Loss: 0.0078 | Acc: 1.0000\n",
            "Epoch 446 | Loss: 0.0078 | Acc: 1.0000\n",
            "Epoch 447 | Loss: 0.0077 | Acc: 1.0000\n",
            "Epoch 448 | Loss: 0.0077 | Acc: 1.0000\n",
            "Epoch 449 | Loss: 0.0077 | Acc: 1.0000\n",
            "Epoch 450 | Loss: 0.0077 | Acc: 1.0000\n",
            "Epoch 451 | Loss: 0.0077 | Acc: 1.0000\n",
            "Epoch 452 | Loss: 0.0077 | Acc: 1.0000\n",
            "Epoch 453 | Loss: 0.0077 | Acc: 1.0000\n",
            "Epoch 454 | Loss: 0.0077 | Acc: 1.0000\n",
            "Epoch 455 | Loss: 0.0076 | Acc: 1.0000\n",
            "Epoch 456 | Loss: 0.0076 | Acc: 1.0000\n",
            "Epoch 457 | Loss: 0.0076 | Acc: 1.0000\n",
            "Epoch 458 | Loss: 0.0076 | Acc: 1.0000\n",
            "Epoch 459 | Loss: 0.0076 | Acc: 1.0000\n",
            "Epoch 460 | Loss: 0.0076 | Acc: 1.0000\n",
            "Epoch 461 | Loss: 0.0076 | Acc: 1.0000\n",
            "Epoch 462 | Loss: 0.0076 | Acc: 1.0000\n",
            "Epoch 463 | Loss: 0.0075 | Acc: 1.0000\n",
            "Epoch 464 | Loss: 0.0075 | Acc: 1.0000\n",
            "Epoch 465 | Loss: 0.0075 | Acc: 1.0000\n",
            "Epoch 466 | Loss: 0.0075 | Acc: 1.0000\n",
            "Epoch 467 | Loss: 0.0075 | Acc: 1.0000\n",
            "Epoch 468 | Loss: 0.0075 | Acc: 1.0000\n",
            "Epoch 469 | Loss: 0.0075 | Acc: 1.0000\n",
            "Epoch 470 | Loss: 0.0074 | Acc: 1.0000\n",
            "Epoch 471 | Loss: 0.0074 | Acc: 1.0000\n",
            "Epoch 472 | Loss: 0.0074 | Acc: 1.0000\n",
            "Epoch 473 | Loss: 0.0074 | Acc: 1.0000\n",
            "Epoch 474 | Loss: 0.0074 | Acc: 1.0000\n",
            "Epoch 475 | Loss: 0.0074 | Acc: 1.0000\n",
            "Epoch 476 | Loss: 0.0074 | Acc: 1.0000\n",
            "Epoch 477 | Loss: 0.0074 | Acc: 1.0000\n",
            "Epoch 478 | Loss: 0.0073 | Acc: 1.0000\n",
            "Epoch 479 | Loss: 0.0073 | Acc: 1.0000\n",
            "Epoch 480 | Loss: 0.0073 | Acc: 1.0000\n",
            "Epoch 481 | Loss: 0.0073 | Acc: 1.0000\n",
            "Epoch 482 | Loss: 0.0073 | Acc: 1.0000\n",
            "Epoch 483 | Loss: 0.0073 | Acc: 1.0000\n",
            "Epoch 484 | Loss: 0.0073 | Acc: 1.0000\n",
            "Epoch 485 | Loss: 0.0073 | Acc: 1.0000\n",
            "Epoch 486 | Loss: 0.0073 | Acc: 1.0000\n",
            "Epoch 487 | Loss: 0.0072 | Acc: 1.0000\n",
            "Epoch 488 | Loss: 0.0072 | Acc: 1.0000\n",
            "Epoch 489 | Loss: 0.0072 | Acc: 1.0000\n",
            "Epoch 490 | Loss: 0.0072 | Acc: 1.0000\n",
            "Epoch 491 | Loss: 0.0072 | Acc: 1.0000\n",
            "Epoch 492 | Loss: 0.0072 | Acc: 1.0000\n",
            "Epoch 493 | Loss: 0.0072 | Acc: 1.0000\n",
            "Epoch 494 | Loss: 0.0072 | Acc: 1.0000\n",
            "Epoch 495 | Loss: 0.0071 | Acc: 1.0000\n",
            "Epoch 496 | Loss: 0.0071 | Acc: 1.0000\n",
            "Epoch 497 | Loss: 0.0071 | Acc: 1.0000\n",
            "Epoch 498 | Loss: 0.0071 | Acc: 1.0000\n",
            "Epoch 499 | Loss: 0.0071 | Acc: 1.0000\n",
            "Epoch 500 | Loss: 0.0071 | Acc: 1.0000\n"
          ]
        },
        {
          "output_type": "execute_result",
          "data": {
            "text/plain": [
              "Embedding(34, 16)"
            ]
          },
          "metadata": {},
          "execution_count": 29
        }
      ]
    },
    {
      "cell_type": "markdown",
      "metadata": {
        "id": "WX2PSXnTDiNi"
      },
      "source": [
        "## Visualize the final node embeddings\n",
        "Visualize your final embedding here!\n",
        "You can visually compare the figure with the previous embedding figure.\n",
        "After training, you should oberserve that the two classes are more evidently separated.\n",
        "This is a great sanitity check for your implementation as well."
      ]
    },
    {
      "cell_type": "code",
      "metadata": {
        "id": "MtNgl4VhYKow",
        "colab": {
          "base_uri": "https://localhost:8080/",
          "height": 522
        },
        "outputId": "862ce184-63fe-49f1-aea7-1b1b617aa6df"
      },
      "source": [
        "# Visualize the final learned embedding\n",
        "visualize_emb(emb)"
      ],
      "execution_count": 30,
      "outputs": [
        {
          "output_type": "display_data",
          "data": {
            "text/plain": [
              "<Figure size 600x600 with 1 Axes>"
            ],
            "image/png": "[encoded data removed]"
          },
          "metadata": {}
        }
      ]
    },
    {
      "cell_type": "markdown",
      "metadata": {
        "id": "FTNyrAoSVeq9"
      },
      "source": [
        "# Submission"
      ]
    },
    {
      "cell_type": "markdown",
      "metadata": {
        "id": "E_E7J_GkVhY_"
      },
      "source": [
        "When you submit your assignment, you will have to download this file as an `.ipynb` file. Please name this file `CS224W_Colab_1.ipynb`. Make sure that the files are name correctly, otherwise the autograder will not be able to find your submission files."
      ]
    },
    {
      "cell_type": "code",
      "source": [],
      "metadata": {
        "id": "0W-nxh-wgZ-V"
      },
      "execution_count": null,
      "outputs": []
    }
  ]
}