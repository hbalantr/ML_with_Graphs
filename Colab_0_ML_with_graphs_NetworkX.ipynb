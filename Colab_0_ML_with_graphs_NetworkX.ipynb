{
 "cells": [
  {
   "metadata": {},
   "cell_type": "markdown",
   "source": [
    "# This is a sample Jupyter Notebook\n",
    "\n",
    "Below is an example of a code cell. \n",
    "Put your cursor into the cell and press Shift+Enter to execute it and select the next one, or click 'Run Cell' button.\n",
    "\n",
    "Press Double Shift to search everywhere for classes, files, tool windows, actions, and settings.\n",
    "\n",
    "To learn more about Jupyter Notebooks in PyCharm, see [help](https://www.jetbrains.com/help/pycharm/ipython-notebook-support.html).\n",
    "For an overview of PyCharm, go to Help -> Learn IDE features or refer to [our documentation](https://www.jetbrains.com/help/pycharm/getting-started.html)."
   ],
   "id": "8a77807f92f26ee"
  },
  {
   "metadata": {
    "ExecuteTime": {
     "end_time": "2025-05-21T02:01:57.770997Z",
     "start_time": "2025-05-21T02:01:57.746863Z"
    }
   },
   "cell_type": "code",
   "source": "print(\"Hello World!\")\n",
   "id": "fbc121e30a2defb3",
   "outputs": [
    {
     "name": "stdout",
     "output_type": "stream",
     "text": [
      "Hello World!\n"
     ]
    }
   ],
   "execution_count": 1
  },
  {
   "metadata": {
    "ExecuteTime": {
     "end_time": "2025-05-21T02:58:51.795734Z",
     "start_time": "2025-05-21T02:57:54.931408Z"
    }
   },
   "cell_type": "code",
   "source": [
    "!pip install networkx\n",
    "!pip install numpy\n",
    "!pip install matplotlib\n",
    "!pip install scipy"
   ],
   "id": "e657476a3bc176f5",
   "outputs": [
    {
     "name": "stdout",
     "output_type": "stream",
     "text": [
      "Collecting networkx\r\n",
      "  Using cached networkx-3.2.1-py3-none-any.whl.metadata (5.2 kB)\r\n",
      "Using cached networkx-3.2.1-py3-none-any.whl (1.6 MB)\r\n",
      "Installing collected packages: networkx\r\n",
      "Successfully installed networkx-3.2.1\r\n",
      "\r\n",
      "\u001B[1m[\u001B[0m\u001B[34;49mnotice\u001B[0m\u001B[1;39;49m]\u001B[0m\u001B[39;49m A new release of pip is available: \u001B[0m\u001B[31;49m25.0.1\u001B[0m\u001B[39;49m -> \u001B[0m\u001B[32;49m25.1.1\u001B[0m\r\n",
      "\u001B[1m[\u001B[0m\u001B[34;49mnotice\u001B[0m\u001B[1;39;49m]\u001B[0m\u001B[39;49m To update, run: \u001B[0m\u001B[32;49mpip install --upgrade pip\u001B[0m\r\n",
      "Collecting numpy\r\n",
      "  Using cached numpy-2.0.2-cp39-cp39-macosx_14_0_arm64.whl.metadata (60 kB)\r\n",
      "Using cached numpy-2.0.2-cp39-cp39-macosx_14_0_arm64.whl (5.3 MB)\r\n",
      "Installing collected packages: numpy\r\n",
      "Successfully installed numpy-2.0.2\r\n",
      "\r\n",
      "\u001B[1m[\u001B[0m\u001B[34;49mnotice\u001B[0m\u001B[1;39;49m]\u001B[0m\u001B[39;49m A new release of pip is available: \u001B[0m\u001B[31;49m25.0.1\u001B[0m\u001B[39;49m -> \u001B[0m\u001B[32;49m25.1.1\u001B[0m\r\n",
      "\u001B[1m[\u001B[0m\u001B[34;49mnotice\u001B[0m\u001B[1;39;49m]\u001B[0m\u001B[39;49m To update, run: \u001B[0m\u001B[32;49mpip install --upgrade pip\u001B[0m\r\n",
      "Collecting matplotlib\r\n",
      "  Using cached matplotlib-3.9.4-cp39-cp39-macosx_11_0_arm64.whl.metadata (11 kB)\r\n",
      "Collecting contourpy>=1.0.1 (from matplotlib)\r\n",
      "  Using cached contourpy-1.3.0-cp39-cp39-macosx_11_0_arm64.whl.metadata (5.4 kB)\r\n",
      "Collecting cycler>=0.10 (from matplotlib)\r\n",
      "  Using cached cycler-0.12.1-py3-none-any.whl.metadata (3.8 kB)\r\n",
      "Collecting fonttools>=4.22.0 (from matplotlib)\r\n",
      "  Using cached fonttools-4.58.0-cp39-cp39-macosx_10_9_universal2.whl.metadata (104 kB)\r\n",
      "Collecting kiwisolver>=1.3.1 (from matplotlib)\r\n",
      "  Using cached kiwisolver-1.4.7-cp39-cp39-macosx_11_0_arm64.whl.metadata (6.3 kB)\r\n",
      "Requirement already satisfied: numpy>=1.23 in /Users/saiharshitbalantrapu/Desktop/.venv/lib/python3.9/site-packages (from matplotlib) (2.0.2)\r\n",
      "Requirement already satisfied: packaging>=20.0 in /Users/saiharshitbalantrapu/Desktop/.venv/lib/python3.9/site-packages (from matplotlib) (25.0)\r\n",
      "Collecting pillow>=8 (from matplotlib)\r\n",
      "  Using cached pillow-11.2.1-cp39-cp39-macosx_11_0_arm64.whl.metadata (8.9 kB)\r\n",
      "Collecting pyparsing>=2.3.1 (from matplotlib)\r\n",
      "  Using cached pyparsing-3.2.3-py3-none-any.whl.metadata (5.0 kB)\r\n",
      "Requirement already satisfied: python-dateutil>=2.7 in /Users/saiharshitbalantrapu/Desktop/.venv/lib/python3.9/site-packages (from matplotlib) (2.9.0.post0)\r\n",
      "Collecting importlib-resources>=3.2.0 (from matplotlib)\r\n",
      "  Using cached importlib_resources-6.5.2-py3-none-any.whl.metadata (3.9 kB)\r\n",
      "Requirement already satisfied: zipp>=3.1.0 in /Users/saiharshitbalantrapu/Desktop/.venv/lib/python3.9/site-packages (from importlib-resources>=3.2.0->matplotlib) (3.21.0)\r\n",
      "Requirement already satisfied: six>=1.5 in /Users/saiharshitbalantrapu/Desktop/.venv/lib/python3.9/site-packages (from python-dateutil>=2.7->matplotlib) (1.17.0)\r\n",
      "Using cached matplotlib-3.9.4-cp39-cp39-macosx_11_0_arm64.whl (7.8 MB)\r\n",
      "Using cached contourpy-1.3.0-cp39-cp39-macosx_11_0_arm64.whl (249 kB)\r\n",
      "Using cached cycler-0.12.1-py3-none-any.whl (8.3 kB)\r\n",
      "Using cached fonttools-4.58.0-cp39-cp39-macosx_10_9_universal2.whl (2.7 MB)\r\n",
      "Using cached importlib_resources-6.5.2-py3-none-any.whl (37 kB)\r\n",
      "Using cached kiwisolver-1.4.7-cp39-cp39-macosx_11_0_arm64.whl (64 kB)\r\n",
      "Using cached pillow-11.2.1-cp39-cp39-macosx_11_0_arm64.whl (3.0 MB)\r\n",
      "Using cached pyparsing-3.2.3-py3-none-any.whl (111 kB)\r\n",
      "Installing collected packages: pyparsing, pillow, kiwisolver, importlib-resources, fonttools, cycler, contourpy, matplotlib\r\n",
      "Successfully installed contourpy-1.3.0 cycler-0.12.1 fonttools-4.58.0 importlib-resources-6.5.2 kiwisolver-1.4.7 matplotlib-3.9.4 pillow-11.2.1 pyparsing-3.2.3\r\n",
      "\r\n",
      "\u001B[1m[\u001B[0m\u001B[34;49mnotice\u001B[0m\u001B[1;39;49m]\u001B[0m\u001B[39;49m A new release of pip is available: \u001B[0m\u001B[31;49m25.0.1\u001B[0m\u001B[39;49m -> \u001B[0m\u001B[32;49m25.1.1\u001B[0m\r\n",
      "\u001B[1m[\u001B[0m\u001B[34;49mnotice\u001B[0m\u001B[1;39;49m]\u001B[0m\u001B[39;49m To update, run: \u001B[0m\u001B[32;49mpip install --upgrade pip\u001B[0m\r\n",
      "Collecting scipy\r\n",
      "  Using cached scipy-1.13.1-cp39-cp39-macosx_12_0_arm64.whl.metadata (60 kB)\r\n",
      "Requirement already satisfied: numpy<2.3,>=1.22.4 in /Users/saiharshitbalantrapu/Desktop/.venv/lib/python3.9/site-packages (from scipy) (2.0.2)\r\n",
      "Using cached scipy-1.13.1-cp39-cp39-macosx_12_0_arm64.whl (30.3 MB)\r\n",
      "Installing collected packages: scipy\r\n",
      "Successfully installed scipy-1.13.1\r\n",
      "\r\n",
      "\u001B[1m[\u001B[0m\u001B[34;49mnotice\u001B[0m\u001B[1;39;49m]\u001B[0m\u001B[39;49m A new release of pip is available: \u001B[0m\u001B[31;49m25.0.1\u001B[0m\u001B[39;49m -> \u001B[0m\u001B[32;49m25.1.1\u001B[0m\r\n",
      "\u001B[1m[\u001B[0m\u001B[34;49mnotice\u001B[0m\u001B[1;39;49m]\u001B[0m\u001B[39;49m To update, run: \u001B[0m\u001B[32;49mpip install --upgrade pip\u001B[0m\r\n"
     ]
    }
   ],
   "execution_count": 4
  },
  {
   "metadata": {},
   "cell_type": "markdown",
   "source": "Below code cells will try to implement the graphs using networkx package.",
   "id": "84c808eadd4dd1f2"
  },
  {
   "metadata": {
    "ExecuteTime": {
     "end_time": "2025-05-21T02:58:55.188247Z",
     "start_time": "2025-05-21T02:58:55.016251Z"
    }
   },
   "cell_type": "code",
   "source": "import networkx as nx",
   "id": "649a597b43f6b491",
   "outputs": [],
   "execution_count": 5
  },
  {
   "metadata": {
    "ExecuteTime": {
     "end_time": "2025-05-21T02:58:56.978014Z",
     "start_time": "2025-05-21T02:58:56.901824Z"
    }
   },
   "cell_type": "code",
   "source": [
    "G = nx.Graph()\n",
    "# G is name of the graph and this command creates the undirected graph.\n"
   ],
   "id": "61e9d7083a6a4d85",
   "outputs": [],
   "execution_count": 6
  },
  {
   "metadata": {
    "ExecuteTime": {
     "end_time": "2025-05-21T02:58:57.958888Z",
     "start_time": "2025-05-21T02:58:57.951693Z"
    }
   },
   "cell_type": "code",
   "source": [
    "H = nx.DiGraph()\n",
    "# In this H is also a graph but DiGraph command creates the directed graph."
   ],
   "id": "b2403fe7e1afbdf2",
   "outputs": [],
   "execution_count": 7
  },
  {
   "metadata": {
    "ExecuteTime": {
     "end_time": "2025-05-21T02:58:59.084659Z",
     "start_time": "2025-05-21T02:58:59.074971Z"
    }
   },
   "cell_type": "code",
   "source": "print(G.is_directed())",
   "id": "726e41c66d0c0ccc",
   "outputs": [
    {
     "name": "stdout",
     "output_type": "stream",
     "text": [
      "False\n"
     ]
    }
   ],
   "execution_count": 8
  },
  {
   "metadata": {
    "ExecuteTime": {
     "end_time": "2025-05-21T02:58:59.929046Z",
     "start_time": "2025-05-21T02:58:59.920112Z"
    }
   },
   "cell_type": "code",
   "source": "print(H.is_directed())",
   "id": "23fcbe9b96e31139",
   "outputs": [
    {
     "name": "stdout",
     "output_type": "stream",
     "text": [
      "True\n"
     ]
    }
   ],
   "execution_count": 9
  },
  {
   "metadata": {
    "ExecuteTime": {
     "end_time": "2025-05-21T02:59:00.999368Z",
     "start_time": "2025-05-21T02:59:00.992141Z"
    }
   },
   "cell_type": "code",
   "source": "G.graph[\"name\"] = \"Harshit\"",
   "id": "d6298ee29094c253",
   "outputs": [],
   "execution_count": 10
  },
  {
   "metadata": {
    "ExecuteTime": {
     "end_time": "2025-05-21T02:59:02.346443Z",
     "start_time": "2025-05-21T02:59:02.340039Z"
    }
   },
   "cell_type": "code",
   "source": [
    "print(G.graph)\n",
    "print(G)\n",
    "\n",
    "# first command tells the graph attributes.\n",
    "# second command tells the information like mentioned below."
   ],
   "id": "e20f0aaa7584c3b5",
   "outputs": [
    {
     "name": "stdout",
     "output_type": "stream",
     "text": [
      "{'name': 'Harshit'}\n",
      "Graph named 'Harshit' with 0 nodes and 0 edges\n"
     ]
    }
   ],
   "execution_count": 11
  },
  {
   "metadata": {
    "ExecuteTime": {
     "end_time": "2025-05-21T02:59:04.084986Z",
     "start_time": "2025-05-21T02:59:04.075371Z"
    }
   },
   "cell_type": "code",
   "source": [
    "# This command tells the adding one node with the node level attributes.\n",
    "# Feature is the input data and label is simply the answer of the model it should learn to predict. For example: In classification task its spam or not spam.\n",
    "G.add_node(0,feature = 8, label=1)"
   ],
   "id": "971a4c97eaf41e8b",
   "outputs": [],
   "execution_count": 12
  },
  {
   "metadata": {
    "ExecuteTime": {
     "end_time": "2025-05-21T02:59:40.065870Z",
     "start_time": "2025-05-21T02:59:40.062047Z"
    }
   },
   "cell_type": "code",
   "source": [
    "# This command tells us the node level attributes. What exactly this node contains?\n",
    "node_0_attr = G.nodes[0]\n",
    "print(node_0_attr)"
   ],
   "id": "d13d1949e9478d30",
   "outputs": [
    {
     "name": "stdout",
     "output_type": "stream",
     "text": [
      "{'feature': 8, 'label': 1}\n"
     ]
    }
   ],
   "execution_count": 20
  },
  {
   "metadata": {
    "ExecuteTime": {
     "end_time": "2025-05-21T02:59:42.528700Z",
     "start_time": "2025-05-21T02:59:42.525190Z"
    }
   },
   "cell_type": "code",
   "source": [
    "# In order to add multiple nodes in a graph use the below commands: But in adding the multiple nodes we should do it using dictionaries\n",
    "\n",
    "G.add_nodes_from([(1,{\"feature\":9,\"label\":6}),(2,{\"feature\":10,\"label\":3})])"
   ],
   "id": "336cc14533ed172e",
   "outputs": [],
   "execution_count": 21
  },
  {
   "metadata": {
    "ExecuteTime": {
     "end_time": "2025-05-21T02:59:44.538747Z",
     "start_time": "2025-05-21T02:59:44.533287Z"
    }
   },
   "cell_type": "code",
   "source": [
    "for node in G.nodes(data=True):\n",
    "    print(node)"
   ],
   "id": "6b5d4f550f4aa73a",
   "outputs": [
    {
     "name": "stdout",
     "output_type": "stream",
     "text": [
      "(0, {'feature': 8, 'label': 1})\n",
      "(1, {'feature': 9, 'label': 6})\n",
      "(2, {'feature': 10, 'label': 3})\n"
     ]
    }
   ],
   "execution_count": 22
  },
  {
   "metadata": {
    "ExecuteTime": {
     "end_time": "2025-05-21T02:59:46.256412Z",
     "start_time": "2025-05-21T02:59:46.252924Z"
    }
   },
   "cell_type": "code",
   "source": [
    "# num_nodes will return the number of nodes in the graph\n",
    "num_nodes = G.number_of_nodes()\n",
    "print(num_nodes)"
   ],
   "id": "6cc348abef7dec65",
   "outputs": [
    {
     "name": "stdout",
     "output_type": "stream",
     "text": [
      "3\n"
     ]
    }
   ],
   "execution_count": 23
  },
  {
   "metadata": {
    "ExecuteTime": {
     "end_time": "2025-05-21T02:59:50.032952Z",
     "start_time": "2025-05-21T02:59:50.024719Z"
    }
   },
   "cell_type": "code",
   "source": [
    "# We know from the theory that graph comprises nodes and edges. Since we added nodes now we will be adding edges.\n",
    "# Means it adds the edge between nodes 0 and 1 with weight 0.25\n",
    "\n",
    "G.add_edge(0,1,weight=0.25)\n",
    "edge_0_1_attr = G.edges[0,1]\n",
    "print(edge_0_1_attr)"
   ],
   "id": "3095f00e8d3a683d",
   "outputs": [
    {
     "name": "stdout",
     "output_type": "stream",
     "text": [
      "{'weight': 0.25}\n"
     ]
    }
   ],
   "execution_count": 24
  },
  {
   "metadata": {
    "ExecuteTime": {
     "end_time": "2025-05-21T02:59:51.808987Z",
     "start_time": "2025-05-21T02:59:51.805723Z"
    }
   },
   "cell_type": "code",
   "source": [
    "# In order to add multiple edges with edge weights use this :\n",
    "G.add_edges_from([(1, 2, {\"weight\":0.3}),(2,0, {\"weight\":0.9})])"
   ],
   "id": "c03ad90c8cce42fc",
   "outputs": [],
   "execution_count": 25
  },
  {
   "metadata": {
    "ExecuteTime": {
     "end_time": "2025-05-21T02:59:53.288641Z",
     "start_time": "2025-05-21T02:59:53.284292Z"
    }
   },
   "cell_type": "code",
   "source": [
    "for edge in G.edges(data=True):\n",
    "    print(edge)\n",
    "num_edges = G.number_of_edges()"
   ],
   "id": "7f04f25fb39af414",
   "outputs": [
    {
     "name": "stdout",
     "output_type": "stream",
     "text": [
      "(0, 1, {'weight': 0.25})\n",
      "(0, 2, {'weight': 0.9})\n",
      "(1, 2, {'weight': 0.3})\n"
     ]
    }
   ],
   "execution_count": 26
  },
  {
   "metadata": {
    "ExecuteTime": {
     "end_time": "2025-05-21T02:59:59.463156Z",
     "start_time": "2025-05-21T02:59:54.667572Z"
    }
   },
   "cell_type": "code",
   "source": [
    "# Now we described the graph with the edges and nodes. Let's visualize the graph now using the command.\n",
    "nx.draw(G, with_labels = True)"
   ],
   "id": "ad328866e8bc407c",
   "outputs": [
    {
     "data": {
      "text/plain": [
       "<Figure size 640x480 with 1 Axes>"
      ],
      "image/png": "[encoded data removed]"
     },
     "metadata": {},
     "output_type": "display_data"
    }
   ],
   "execution_count": 27
  },
  {
   "metadata": {
    "ExecuteTime": {
     "end_time": "2025-05-21T03:00:42.018177Z",
     "start_time": "2025-05-21T03:00:42.008162Z"
    }
   },
   "cell_type": "code",
   "source": [
    "# Node ID and Neighbor\n",
    "\n",
    "node_id = 1\n",
    "\n",
    "# Degree of node 1\n",
    "print(\"Node {} has degree {}\".format(node_id, G.degree[node_id]))\n",
    "\n",
    "# Get neighbor of node 1\n",
    "for neighbor in G.neighbors(node_id):\n",
    "  print(\"Node {} has neighbor {}\".format(node_id, neighbor))\n"
   ],
   "id": "e34d19ec8ecc1994",
   "outputs": [
    {
     "name": "stdout",
     "output_type": "stream",
     "text": [
      "Node 1 has degree 2\n",
      "Node 1 has neighbor 0\n",
      "Node 1 has neighbor 2\n"
     ]
    }
   ],
   "execution_count": 28
  },
  {
   "metadata": {},
   "cell_type": "code",
   "outputs": [],
   "execution_count": null,
   "source": "",
   "id": "8a973f81cd99833d"
  }
 ],
 "metadata": {
  "kernelspec": {
   "display_name": "Python 3",
   "language": "python",
   "name": "python3"
  },
  "language_info": {
   "codemirror_mode": {
    "name": "ipython",
    "version": 2
   },
   "file_extension": ".py",
   "mimetype": "text/x-python",
   "name": "python",
   "nbconvert_exporter": "python",
   "pygments_lexer": "ipython2",
   "version": "2.7.6"
  }
 },
 "nbformat": 4,
 "nbformat_minor": 5
}
